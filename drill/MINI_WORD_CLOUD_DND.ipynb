{
 "cells": [
  {
   "cell_type": "code",
   "execution_count": null,
   "metadata": {},
   "outputs": [],
   "source": [
    "import glob"
   ]
  },
  {
   "cell_type": "code",
   "execution_count": null,
   "metadata": {},
   "outputs": [],
   "source": [
    "file_list = glob.glob('C:/Users/smsta/Desktop/TEST/newman/*.json')"
   ]
  },
  {
   "cell_type": "code",
   "execution_count": null,
   "metadata": {},
   "outputs": [],
   "source": [
    "for f in file_list: \n",
    "    print(f)"
   ]
  },
  {
   "cell_type": "code",
   "execution_count": null,
   "metadata": {},
   "outputs": [],
   "source": [
    "print(type(file_list))"
   ]
  },
  {
   "cell_type": "code",
   "execution_count": null,
   "metadata": {},
   "outputs": [],
   "source": [
    "import json \n",
    "def extract_all():\n",
    "    final_list =[]  \n",
    "    for filename in file_list: \n",
    "        with open(filename, 'r', encoding=\"utf8\") as file: \n",
    "            output_json = json.load(file)\n",
    "            for (k, v) in output_json.items():\n",
    "                if k == \"run\":\n",
    "                    executions_values = v[\"executions\"]\n",
    "                    for ticket in executions_values:\n",
    "                        single_ticket = ticket\n",
    "                        for (k1, v1) in single_ticket.items():\n",
    "                            if k1 == \"assertions\":\n",
    "                                for elem in v1: \n",
    "                                    for (k2, v2) in elem.items():\n",
    "                                        if k2 == 'assertion':\n",
    "                                            res2 = json.loads(v2)\n",
    "                                            for (k3, v3) in res2.items():\n",
    "                                                if k3 == 'comments':\n",
    "                                                    for elem1 in v3:\n",
    "                                                        for (k4, v4) in elem1.items():\n",
    "                                                            if k4 == 'body':\n",
    "                                                                final_list.append(v4)\n",
    "    return(final_list)"
   ]
  },
  {
   "cell_type": "code",
   "execution_count": null,
   "metadata": {},
   "outputs": [],
   "source": [
    "extract_all()"
   ]
  },
  {
   "cell_type": "code",
   "execution_count": null,
   "metadata": {},
   "outputs": [],
   "source": [
    "output = extract_all()\n",
    "print(output)"
   ]
  },
  {
   "cell_type": "code",
   "execution_count": null,
   "metadata": {},
   "outputs": [],
   "source": [
    "conda install -c conda-forge wordcloud"
   ]
  },
  {
   "cell_type": "code",
   "execution_count": null,
   "metadata": {},
   "outputs": [],
   "source": [
    "pip install wordcloud"
   ]
  },
  {
   "cell_type": "code",
   "execution_count": null,
   "metadata": {},
   "outputs": [],
   "source": [
    "import matplotlib.pyplot as plt\n",
    "from wordcloud import WordCloud, STOPWORDS"
   ]
  },
  {
   "cell_type": "code",
   "execution_count": null,
   "metadata": {},
   "outputs": [],
   "source": [
    "stopwords = set(STOPWORDS)\n",
    "\n",
    "wordcloud = WordCloud(stopwords=stopwords,\n",
    "                      background_color=\"white\",\n",
    "                      width = 4000,\n",
    "                      height = 2000,\n",
    "                      max_words=200,  \n",
    "                      collocations = False\n",
    "                     ).generate(' '.join(output))\n",
    "\n",
    "plt.imshow(wordcloud, interpolation='bilinear')\n",
    "plt.axis(\"off\")\n",
    "plt.show()"
   ]
  }
 ],
 "metadata": {
  "kernelspec": {
   "display_name": "mynewenv",
   "language": "python",
   "name": "mynewenv"
  },
  "language_info": {
   "codemirror_mode": {
    "name": "ipython",
    "version": 3
   },
   "file_extension": ".py",
   "mimetype": "text/x-python",
   "name": "python",
   "nbconvert_exporter": "python",
   "pygments_lexer": "ipython3",
   "version": "3.8.3"
  }
 },
 "nbformat": 4,
 "nbformat_minor": 4
}
