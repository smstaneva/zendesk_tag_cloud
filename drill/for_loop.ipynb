{
 "cells": [
  {
   "cell_type": "markdown",
   "metadata": {},
   "source": [
    "For Loops"
   ]
  },
  {
   "cell_type": "code",
   "execution_count": null,
   "metadata": {},
   "outputs": [],
   "source": [
    "for (k1, v1) in single_ticket.items():\n",
    "                        if k1 == \"assertions\":\n",
    "                            for elem in v1: \n",
    "                                for (k2, v2) in elem.items():\n",
    "                                    if k2 == 'assertion':\n",
    "                                        res2 = json.loads(v2)\n",
    "                                        for (k3, v3) in res2.items():\n",
    "                                            if k3 == 'comments':\n",
    "                                                for elem1 in v3:\n",
    "                                                    for (k4, v4) in elem1.items():\n",
    "                                                        if k4 == 'body':\n",
    "                                                            print(v4)"
   ]
  },
  {
   "cell_type": "code",
   "execution_count": null,
   "metadata": {},
   "outputs": [],
   "source": [
    "import json \n",
    "for filename in file_list: \n",
    "    with open(filename, 'r', encoding=\"utf8\") as file: \n",
    "        output_json = json.load(file)\n",
    "        ##output_json result {'collection': \n",
    "        ##2 files 6 tickets\n",
    "        for (k, v) in output_json.items():\n",
    "            if k == \"run\":\n",
    "                ##v result{'stats': \n",
    "                ##2 files 6 tickets\n",
    "                executions_values = v['executions']\n",
    "                ##executions_values result [{'cursor':\n",
    "                ##2 files 6 tickets\n",
    "                 for ticket in executions_values:\n",
    "                    ##ticket result {'cursor':\n",
    "                    ##6 tickets on new lines each\n",
    "                    ##executions_values is a list"
   ]
  },
  {
   "cell_type": "code",
   "execution_count": null,
   "metadata": {},
   "outputs": [],
   "source": [
    "def extract_text_from_tickets():\n",
    "    values = []\n",
    "    executions_values = v[\"executions\"]\n",
    "    for ticket in executions_values:\n",
    "                        single_ticket = ticket\n",
    "                        for (k1, v1) in single_ticket.items():\n",
    "                            if k1 == \"assertions\":\n",
    "                                for elem in v1: \n",
    "                                    for (k2, v2) in elem.items():\n",
    "                                        if k2 == 'assertion':\n",
    "                                            res2 = json.loads(v2)\n",
    "                                            for (k3, v3) in res2.items():\n",
    "                                                if k3 == 'comments':\n",
    "                                                    for elem1 in v3:\n",
    "                                                        for (k4, v4) in elem1.items():\n",
    "                                                            if k4 == 'body':\n",
    "                                                                values.append(v4)\n",
    "    return(values)"
   ]
  },
  {
   "cell_type": "code",
   "execution_count": null,
   "metadata": {},
   "outputs": [],
   "source": [
    "def extract_existing_ticket_list():\n",
    "    existing_ticket_list = []\n",
    "    for filename in file_list: \n",
    "        with open(filename, 'r', encoding=\"utf8\") as file: \n",
    "            output_json = json.load(file)\n",
    "            for (k, v) in output_json.items():\n",
    "                if k == \"run\":\n",
    "                    section_of_files = v[\"executions\"]\n",
    "                    for ticket in section_of_files:\n",
    "                        single_ticket = ticket\n",
    "                        for (k1, v1) in single_ticket.items():\n",
    "                            if k1 == \"assertions\":\n",
    "                                for elem in v1: \n",
    "                                    for (k2, v2) in elem.items():\n",
    "                                        if k2 == 'assertion':\n",
    "                                            res2 = json.loads(v2)\n",
    "                                            for (k3, v3) in res2.items():\n",
    "                                                if k3 == 'comments':\n",
    "                                                    existing_ticket_list.append(v3)\n",
    "                                                    print(existing_ticket_list)"
   ]
  },
  {
   "cell_type": "code",
   "execution_count": null,
   "metadata": {},
   "outputs": [],
   "source": [
    "ticket_list = []\n",
    "for ticket in executions_values:\n",
    "        result = extract_text_from_tickets()\n",
    "        joined_output =' '.join(result)\n",
    "        ticket_list.append(joined_output)"
   ]
  },
  {
   "cell_type": "code",
   "execution_count": null,
   "metadata": {},
   "outputs": [],
   "source": [
    "def create_final_ticket_list():\n",
    "    result = extract_tickets()\n",
    "    ticket_list = []\n",
    "    joined_output =''.join(result)\n",
    "    ticket_list.append(joined_output)\n",
    "    return(ticket_list)"
   ]
  },
  {
   "cell_type": "code",
   "execution_count": null,
   "metadata": {},
   "outputs": [],
   "source": [
    "def create_ticket_list(ticket):\n",
    "    ticket_list = []\n",
    "    single_ticket = ticket\n",
    "    for each in single_ticket:\n",
    "        ticket_list.append(each)\n",
    "        return(ticket_list)"
   ]
  },
  {
   "cell_type": "code",
   "execution_count": null,
   "metadata": {},
   "outputs": [],
   "source": [
    "def create_final_ticket_list():\n",
    "    some_var = extract_ticket_list()\n",
    "    result = extract_text_from_tickets()\n",
    "    for i in some_var:\n",
    "        ticket_list = []\n",
    "        joined_output =' '.join(result)\n",
    "        ticket_list.append(joined_output)\n",
    "    return(ticket_list)"
   ]
  },
  {
   "cell_type": "markdown",
   "metadata": {},
   "source": [
    "Read file from filename<br>\n",
    "extract tickets from file<br>\n",
    "return list of tickets<br>\n",
    "\n",
    "for every ticket<br>\n",
    "extract section from ticket"
   ]
  },
  {
   "cell_type": "code",
   "execution_count": null,
   "metadata": {},
   "outputs": [],
   "source": [
    "#This function takes a list of tickets and extracts text from each. It is going to be a list of text strings."
   ]
  },
  {
   "cell_type": "markdown",
   "metadata": {},
   "source": [
    "existing list of text = []<br>\n",
    "for each ticket in existing ticket list:<br>\n",
    "    extract all text from ticket<br>\n",
    "    add to existing list of text"
   ]
  },
  {
   "cell_type": "markdown",
   "metadata": {},
   "source": [
    "24 comments within 6 tickets: 1 ticket => 10 comments; 2 ticket => 2 comments; 3 ticket => no comments; 4 ticket => 1 comment; 5 ticket = > 4 comments; 6 ticket => 7 comments"
   ]
  },
  {
   "cell_type": "markdown",
   "metadata": {},
   "source": [
    "The result from below is 6 tickets; includes 3 times as discussed and as attachment because it includes body, html_body and plain_body:"
   ]
  },
  {
   "cell_type": "markdown",
   "metadata": {},
   "source": [
    "Printing the function display whatever we put after return:"
   ]
  }
 ],
 "metadata": {
  "kernelspec": {
   "display_name": "Python 3",
   "language": "python",
   "name": "python3"
  },
  "language_info": {
   "codemirror_mode": {
    "name": "ipython",
    "version": 3
   },
   "file_extension": ".py",
   "mimetype": "text/x-python",
   "name": "python",
   "nbconvert_exporter": "python",
   "pygments_lexer": "ipython3",
   "version": "3.8.5"
  }
 },
 "nbformat": 4,
 "nbformat_minor": 4
}
