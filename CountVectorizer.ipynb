{
 "cells": [
  {
   "cell_type": "markdown",
   "id": "3c1b69a3",
   "metadata": {},
   "source": [
    "# <font color='#31708f'><center>CountVectorizer<a class=\"anchor\" id=\"fourth-bullet\"></a></center></font>"
   ]
  },
  {
   "cell_type": "markdown",
   "id": "dc7bfdd7",
   "metadata": {},
   "source": [
    "# <font color='#576675'>Create the Document-Word matrix</font>"
   ]
  },
  {
   "cell_type": "code",
   "execution_count": null,
   "id": "1560bc45",
   "metadata": {},
   "outputs": [],
   "source": [
    "#Convert a collection of text documents to a matrix of token counts\n",
    "vectorizer=CountVectorizer(analyzer='word',   \n",
    "                           token_pattern='[a-zA-Z]{3,}', # only non-digit characters > 3\n",
    "                           stop_words=custom_stopwords,  # remove stop words\n",
    "                           lowercase=True,               # convert all words to lowercase\n",
    "                           # min_df=10,                  # minimum reqd occurences of a word\n",
    "                           # max_features=50000,         # max number of uniq words\n",
    "                           \n",
    "                       )\n",
    "    \n",
    "# this step generates word counts for the words in your docs \n",
    "data_vectorized=vectorizer.fit_transform(data_lemmatized)"
   ]
  },
  {
   "cell_type": "markdown",
   "id": "44a801e0",
   "metadata": {},
   "source": [
    "6 rows (6 tickets), 54 columns (unique words)"
   ]
  },
  {
   "cell_type": "code",
   "execution_count": null,
   "id": "6a114088",
   "metadata": {},
   "outputs": [],
   "source": [
    "#check rows(docs) and columns(unique words), minus single character words\n",
    "#The columns number is raw word frequency\n",
    "data_vectorized.shape"
   ]
  },
  {
   "cell_type": "code",
   "execution_count": null,
   "id": "49b2e60c",
   "metadata": {},
   "outputs": [],
   "source": [
    "(Optional)"
   ]
  },
  {
   "cell_type": "code",
   "execution_count": null,
   "id": "a0ca7007",
   "metadata": {},
   "outputs": [],
   "source": [
    "print(vectorizer.get_feature_names())"
   ]
  },
  {
   "cell_type": "code",
   "execution_count": null,
   "id": "3ce6a98c",
   "metadata": {},
   "outputs": [],
   "source": [
    "(Optional)"
   ]
  },
  {
   "cell_type": "markdown",
   "id": "b8abc902",
   "metadata": {},
   "source": [
    "How many times a word has been used in a ticket"
   ]
  },
  {
   "cell_type": "code",
   "execution_count": null,
   "id": "27c78514",
   "metadata": {},
   "outputs": [],
   "source": [
    "print(data_vectorized.toarray())"
   ]
  },
  {
   "cell_type": "markdown",
   "id": "12cedae9",
   "metadata": {},
   "source": [
    "# <font color='#576675'>Count</font>"
   ]
  },
  {
   "cell_type": "markdown",
   "id": "ab8c7662",
   "metadata": {},
   "source": [
    "Get top_n_words:"
   ]
  },
  {
   "cell_type": "code",
   "execution_count": null,
   "id": "1521cfb8",
   "metadata": {},
   "outputs": [],
   "source": [
    "#Count column in Excel spreadsheet\n",
    "np.asarray(data_vectorized.sum(axis=0))"
   ]
  },
  {
   "cell_type": "code",
   "execution_count": null,
   "id": "ab7b9485",
   "metadata": {},
   "outputs": [],
   "source": [
    "sum_words = np.asarray(data_vectorized.sum(axis=0))"
   ]
  },
  {
   "cell_type": "code",
   "execution_count": null,
   "id": "2b437416",
   "metadata": {},
   "outputs": [],
   "source": [
    "words_freq = [(word, sum_words[0, idx]) for word, idx in vectorizer.vocabulary_.items()]\n",
    "sorted_words_freq =sorted(words_freq, \n",
    "                          key = lambda x: x[1], \n",
    "                          reverse=True)\n",
    "sorted_words_freq[:10]"
   ]
  },
  {
   "cell_type": "code",
   "execution_count": null,
   "id": "76e00c4c",
   "metadata": {},
   "outputs": [],
   "source": [
    "dataframe = pd.DataFrame(sorted_words_freq[:200],\n",
    "                         columns=['words', 'count'])\n",
    "\n",
    "\n",
    "dataframe.head(201)\n",
    "\n",
    "dataframe.style.set_properties(subset=['words', 'count'], **{'width': '200px'})"
   ]
  },
  {
   "cell_type": "code",
   "execution_count": null,
   "id": "5e98e7c6",
   "metadata": {},
   "outputs": [],
   "source": [
    "# select rows in pandas dataframe\n",
    "sliced = dataframe.iloc[[1,2,7,8,9,10,11,13,14,16,19,20,25,26,27,29,30,35,38,39,40,41,49,55,59,64,65,66,67,69,71,76,78,79,80,81,84,87,88,92,93,96,99,104,108,119,126,137,140,146,147,148,149,150,162,164,168,185,186,197], [0,1]]\n",
    "\n",
    "sliced.style.set_properties(subset=['words', 'count'], **{'width': '200px'})"
   ]
  },
  {
   "cell_type": "code",
   "execution_count": null,
   "id": "24743c5e",
   "metadata": {},
   "outputs": [],
   "source": [
    "#create horizontal barplot\n",
    "ax = sliced.head(10).plot.barh(x='words', y='count')"
   ]
  },
  {
   "cell_type": "markdown",
   "id": "83b5b8cd",
   "metadata": {},
   "source": [
    "(Optional)"
   ]
  },
  {
   "cell_type": "code",
   "execution_count": null,
   "id": "abe1ff28",
   "metadata": {},
   "outputs": [],
   "source": [
    "#Verification for count of specific word\n",
    "grep -o -i support *.txt | wc -l"
   ]
  },
  {
   "cell_type": "markdown",
   "id": "8c62cf8e",
   "metadata": {},
   "source": [
    "Got 393559. Check where is the discrepancy."
   ]
  },
  {
   "cell_type": "code",
   "execution_count": null,
   "id": "a8111cd6",
   "metadata": {},
   "outputs": [],
   "source": [
    "fig, ax = plt.subplots(figsize=(20, 10))\n",
    "    \n",
    "# Plot horizontal bar graph\n",
    "dataframe.head(10).sort_values(by='count').plot.barh(x='words',\n",
    "                                                     y='count',\n",
    "                                                     ax=ax,\n",
    "                                                     color=\"#a3e8e5\",\n",
    "                                                     fontsize=16,\n",
    "                                                     xlabel='Words')\n",
    "\n",
    "ax.set_title(\"Top ten words in Zendesk tickets\", fontsize=18)\n",
    "\n",
    "plt.show()"
   ]
  },
  {
   "cell_type": "markdown",
   "id": "8387ecb1",
   "metadata": {},
   "source": [
    "# <font color='#576675'>Document Frequency</font>"
   ]
  },
  {
   "cell_type": "code",
   "execution_count": null,
   "id": "75412a15",
   "metadata": {},
   "outputs": [],
   "source": [
    "#Verification for document frequency of a specific word\n",
    "grep -i support *txt | wc -l"
   ]
  },
  {
   "cell_type": "markdown",
   "id": "f4076e4c",
   "metadata": {},
   "source": [
    "Got 34654. Check where is the discrepancy."
   ]
  },
  {
   "cell_type": "code",
   "execution_count": null,
   "id": "5889d670",
   "metadata": {},
   "outputs": [],
   "source": [
    "#Count strings with substring via string list\n",
    "#Verification for document frequency of a specific word\n",
    "subs = 'support'\n",
    "res = len([i for i in all_docs if subs in i]) \n",
    "print (\"All strings count with given substring are : \" + str(res))"
   ]
  },
  {
   "cell_type": "code",
   "execution_count": null,
   "id": "269c3174",
   "metadata": {},
   "outputs": [],
   "source": [
    "#Count in how many strings within a list a specific substring appears\n",
    "#Verification for document frequency of a specific word\n",
    "substring = \"support\"\n",
    "l = []\n",
    "for x in all_docs:\n",
    "    if substring in x:\n",
    "        l.append(1)\n",
    "    print(substring, len(l))"
   ]
  },
  {
   "cell_type": "markdown",
   "id": "ef3443f5",
   "metadata": {},
   "source": [
    "# <font color='#31708f'><center>TfidfTransformer</center></font>"
   ]
  },
  {
   "cell_type": "markdown",
   "id": "982fcb54",
   "metadata": {},
   "source": [
    "# <font color='#576675'>Smoothed-IDF</font>"
   ]
  },
  {
   "cell_type": "code",
   "execution_count": null,
   "id": "9f6ab81e",
   "metadata": {},
   "outputs": [],
   "source": [
    "tfidf_transformer=TfidfTransformer(smooth_idf=True,use_idf=True) \n",
    "tfidf_transformer.fit(word_count_vector)"
   ]
  },
  {
   "cell_type": "code",
   "execution_count": null,
   "id": "cc440841",
   "metadata": {},
   "outputs": [],
   "source": [
    "fig, ax = plt.subplots(figsize=(20, 10))\n",
    "    \n",
    "# Plot horizontal bar graph\\n\",\n",
    "dataframe.head(10).sort_values(by='count').plot.barh(x='words',\n",
    "                                                     y='count',\n",
    "                                                     ax=ax,\n",
    "                                                     color=\"#a3e8e5\",\n",
    "                                                     fontsize=16, \n",
    "                                                     xlabel='Words')\n",
    "    \n",
    "ax.set_title(\"Ten most frequent words in Zendesk tickets\", fontsize=18)\n",
    "\n",
    "plt.show()"
   ]
  },
  {
   "cell_type": "code",
   "execution_count": null,
   "id": "a63cc5fd",
   "metadata": {},
   "outputs": [],
   "source": [
    "# print idf values:\n",
    "df_idf = pd.DataFrame(tfidf_transformer.idf_, \n",
    "                      index=cv.get_feature_names(),\n",
    "                      columns=[\"idf_weights\"]) \n",
    "    \n",
    "# sort ascending \n",
    "df_idf.sort_values(by=['idf_weights'])"
   ]
  },
  {
   "cell_type": "markdown",
   "id": "120fbbdd",
   "metadata": {},
   "source": [
    "# <font color='#576675'>TF_IDF</font>"
   ]
  },
  {
   "cell_type": "code",
   "execution_count": null,
   "id": "27f398ff",
   "metadata": {},
   "outputs": [],
   "source": [
    "# count matrix\n",
    "count_vector=cv.transform(all_docs)\n",
    "\n",
    "# tf-idf scores\n",
    "tf_idf_vector=tfidf_transformer.transform(count_vector)"
   ]
  },
  {
   "cell_type": "code",
   "execution_count": null,
   "id": "fc9c8383",
   "metadata": {},
   "outputs": [],
   "source": [
    "feature_names = cv.get_feature_names() \n",
    "    \n",
    "#get tfidf vector for first document \n",
    "first_document_vector=tf_idf_vector[0] \n",
    "    \n",
    "#print the scores \n",
    "df = pd.DataFrame(first_document_vector.T.todense(), index=feature_names, columns=[\"tfidf\"]) \n",
    "df.sort_values(by=[\"tfidf\"],ascending=False)"
   ]
  },
  {
   "cell_type": "code",
   "execution_count": null,
   "id": "696079a1",
   "metadata": {},
   "outputs": [],
   "source": [
    "# settings that you use for count vectorizer will go here \n",
    "tfidf_vectorizer=TfidfVectorizer(use_idf=True) \n",
    " \n",
    "# just send in all your docs here \n",
    "tfidf_vectorizer_vectors=tfidf_vectorizer.fit_transform(all_docs)"
   ]
  },
  {
   "cell_type": "code",
   "execution_count": null,
   "id": "93500ee4",
   "metadata": {},
   "outputs": [],
   "source": [
    "# get the first vector out (for the first document) \n",
    "first_vector_tfidfvectorizer=tfidf_vectorizer_vectors[0] \n",
    " \n",
    "# place tf-idf values in a pandas data frame \n",
    "df = pd.DataFrame(first_vector_tfidfvectorizer.T.todense(), index=tfidf_vectorizer.get_feature_names(), columns=[\"tfidf\"]) \n",
    "df.sort_values(by=[\"tfidf\"],ascending=False)"
   ]
  },
  {
   "cell_type": "code",
   "execution_count": null,
   "id": "e440b49c",
   "metadata": {},
   "outputs": [],
   "source": [
    "tfidf_vectorizer=TfidfVectorizer(use_idf=True)\n",
    " \n",
    "# just send in all your docs here\n",
    "fitted_vectorizer=tfidf_vectorizer.fit(all_docs)\n",
    "tfidf_vectorizer_vectors=fitted_vectorizer.transform(all_docs)"
   ]
  },
  {
   "cell_type": "markdown",
   "id": "a93c54aa",
   "metadata": {},
   "source": [
    "Check the Sparsicity:"
   ]
  },
  {
   "cell_type": "code",
   "execution_count": null,
   "id": "80796299",
   "metadata": {},
   "outputs": [],
   "source": [
    "# Materialize the sparse data\n",
    "data_dense = data_vectorized.todense()\n",
    "\n",
    "# Compute Sparsicity = Percentage of Non-Zero cells\n",
    "print(\"Sparsicity: \", ((data_dense > 0).sum()/data_dense.size)*100, \"%\")"
   ]
  },
  {
   "cell_type": "markdown",
   "id": "4ba26766",
   "metadata": {},
   "source": [
    "Build LDA model with sklearn:"
   ]
  },
  {
   "cell_type": "markdown",
   "id": "f71dbc0c",
   "metadata": {},
   "source": [
    "STUDY MORE WHAT IS THE BELOW ABOUT"
   ]
  },
  {
   "cell_type": "code",
   "execution_count": null,
   "id": "b9bb961c",
   "metadata": {},
   "outputs": [],
   "source": [
    "# Build LDA Model\n",
    "lda_model = LatentDirichletAllocation(n_components=10,               # Number of topics\n",
    "                                      max_iter=10,               # Max learning iterations\n",
    "                                      learning_method='online',   \n",
    "                                      random_state=100,          # Random state\n",
    "                                      batch_size=128,            # n docs in each learning iter\n",
    "                                      evaluate_every = -1,       # compute perplexity every n iters, default: Don't\n",
    "                                      n_jobs = -1,               # Use all available CPUs\n",
    "                                      )\n",
    "lda_output = lda_model.fit_transform(data_vectorized)\n",
    "\n",
    "print(lda_model)  # Model attributes"
   ]
  },
  {
   "cell_type": "code",
   "execution_count": null,
   "id": "a60152d9",
   "metadata": {},
   "outputs": [],
   "source": [
    "for i,topic in lda_model.get_topic_terms(formatted=True, num_topics=num_topics, num_words=10):\n",
    "    print(str(i)+\": \"+ topic)\n",
    "    print()"
   ]
  },
  {
   "cell_type": "markdown",
   "id": "bc6645a5",
   "metadata": {},
   "source": [
    "10 topics"
   ]
  },
  {
   "cell_type": "markdown",
   "id": "a81689fb",
   "metadata": {},
   "source": [
    "Diagnose model performance with perplexity and log-likelihood:"
   ]
  },
  {
   "cell_type": "markdown",
   "id": "1fc36410",
   "metadata": {},
   "source": [
    "Log-likelihood higher the better. Perplexity lower the better."
   ]
  },
  {
   "cell_type": "code",
   "execution_count": null,
   "id": "72b8fd3a",
   "metadata": {},
   "outputs": [],
   "source": [
    "# Log Likelyhood: Higher the better\n",
    "print(\"Log Likelihood: \", lda_model.score(data_vectorized))\n",
    "\n",
    "# Perplexity: Lower the better. Perplexity = exp(-1. * log-likelihood per word)\n",
    "print(\"Perplexity: \", lda_model.perplexity(data_vectorized))\n",
    "\n",
    "# See model parameters\n",
    "pprint(lda_model.get_params())"
   ]
  },
  {
   "cell_type": "markdown",
   "id": "bc83992d",
   "metadata": {},
   "source": [
    "How to GridSearch the best LDA model?"
   ]
  },
  {
   "cell_type": "code",
   "execution_count": null,
   "id": "7bd6b386",
   "metadata": {},
   "outputs": [],
   "source": [
    "# Define Search Param\n",
    "search_params = {'n_components': [10, 15, 20, 25, 30], 'learning_decay': [.5, .7, .9]}\n",
    "\n",
    "# Init the Model\n",
    "lda = LatentDirichletAllocation()\n",
    "\n",
    "# Init Grid Search Class\n",
    "model = GridSearchCV(lda, param_grid=search_params)\n",
    "\n",
    "# Do the Grid Search\n",
    "model.fit(data_vectorized)"
   ]
  },
  {
   "cell_type": "markdown",
   "id": "2b8ce144",
   "metadata": {},
   "source": [
    "How to see the best topic model and its parameters?"
   ]
  },
  {
   "cell_type": "code",
   "execution_count": null,
   "id": "24d73c1a",
   "metadata": {},
   "outputs": [],
   "source": [
    "# Best Model\n",
    "best_lda_model = model.best_estimator_\n",
    "\n",
    "# Model Parameters\n",
    "print(\"Best Model's Params: \", model.best_params_)\n",
    "\n",
    "# Log Likelihood Score\n",
    "print(\"Best Log Likelihood Score: \", model.best_score_)\n",
    "\n",
    "# Perplexity\n",
    "print(\"Model Perplexity: \", best_lda_model.perplexity(data_vectorized))"
   ]
  },
  {
   "cell_type": "markdown",
   "id": "457cf8e1",
   "metadata": {},
   "source": [
    "Compare LDA Model Performance Scores"
   ]
  },
  {
   "cell_type": "code",
   "execution_count": null,
   "id": "b295d845",
   "metadata": {},
   "outputs": [],
   "source": [
    "# Get Log Likelyhoods from Grid Search Output\n",
    "n_topics = [10, 15, 20, 25, 30]\n",
    "\n",
    "log_likelyhoods_5 = [round(model.cv_results_['mean_test_score'][index]) for index, gscore in enumerate(model.cv_results_['params']) if gscore['learning_decay']==0.5]\n",
    "log_likelyhoods_7 = [round(model.cv_results_['mean_test_score'][index]) for index, gscore in enumerate(model.cv_results_['params']) if gscore['learning_decay']==0.7]\n",
    "log_likelyhoods_9 = [round(model.cv_results_['mean_test_score'][index]) for index, gscore in enumerate(model.cv_results_['params']) if gscore['learning_decay']==0.9]\n",
    "\n",
    "# Show graph\n",
    "plt.figure(figsize=(12, 8))\n",
    "plt.plot(n_topics, log_likelyhoods_5, label='0.5')\n",
    "plt.plot(n_topics, log_likelyhoods_7, label='0.7')\n",
    "plt.plot(n_topics, log_likelyhoods_9, label='0.9')\n",
    "plt.title(\"Choosing Optimal LDA Model\")\n",
    "plt.xlabel(\"Num Topics\")\n",
    "plt.ylabel(\"Log Likelyhood Scores\")\n",
    "plt.legend(title='Learning decay', loc='best')\n",
    "plt.show()"
   ]
  },
  {
   "cell_type": "markdown",
   "id": "1e1a7c48",
   "metadata": {},
   "source": [
    "How to see the dominant topic in each document?"
   ]
  },
  {
   "cell_type": "code",
   "execution_count": null,
   "id": "c2b097c2",
   "metadata": {},
   "outputs": [],
   "source": [
    "# Create Document - Topic Matrix\n",
    "lda_output = best_lda_model.transform(data_vectorized)\n",
    "\n",
    "# column names\n",
    "topicnames = [\"Topic\" + str(i) for i in range(best_lda_model.n_components)]\n",
    "\n",
    "# index names\n",
    "docnames = [\"Doc\" + str(i) for i in range(len(data))]\n",
    "\n",
    "# Make the pandas dataframe\n",
    "df_document_topic = pd.DataFrame(np.round(lda_output, 2), columns=topicnames, index=docnames)\n",
    "\n",
    "# Get dominant topic for each document\n",
    "dominant_topic = np.argmax(df_document_topic.values, axis=1)\n",
    "df_document_topic['dominant_topic'] = dominant_topic\n",
    "\n",
    "# Styling\n",
    "def color_green(val):\n",
    "    color = 'green' if val > .1 else 'black'\n",
    "    return 'color: {col}'.format(col=color)\n",
    "\n",
    "def make_bold(val):\n",
    "    weight = 700 if val > .1 else 400\n",
    "    return 'font-weight: {weight}'.format(weight=weight)\n",
    "\n",
    "# Apply Style\n",
    "df_document_topics = df_document_topic.head(15).style.applymap(color_green).applymap(make_bold)\n",
    "df_document_topics"
   ]
  },
  {
   "cell_type": "markdown",
   "id": "11e95d2b",
   "metadata": {},
   "source": [
    "Review topics distribution across documents"
   ]
  },
  {
   "cell_type": "code",
   "execution_count": null,
   "id": "90c5fd6b",
   "metadata": {},
   "outputs": [],
   "source": [
    "df_topic_distribution = df_document_topic['dominant_topic'].value_counts().reset_index(name=\"Num Documents\")\n",
    "df_topic_distribution.columns = ['Topic Num', 'Num Documents']\n",
    "df_topic_distribution"
   ]
  },
  {
   "cell_type": "markdown",
   "id": "22c87882",
   "metadata": {},
   "source": [
    "How to visualize the LDA model with pyLDAvis?"
   ]
  },
  {
   "cell_type": "markdown",
   "id": "a4a06839",
   "metadata": {},
   "source": [
    "Enable the automatic display of visualizations in the IPython Notebook.<br>\n",
    "Transform and prepare a LDA model’s data for visualization."
   ]
  },
  {
   "cell_type": "code",
   "execution_count": null,
   "id": "870b67ab",
   "metadata": {},
   "outputs": [],
   "source": [
    "pyLDAvis.enable_notebook()\n",
    "panel = pyLDAvis.sklearn.prepare(best_lda_model, data_vectorized, vectorizer, mds='tsne')\n",
    "panel"
   ]
  },
  {
   "cell_type": "markdown",
   "id": "36fa0b63",
   "metadata": {},
   "source": [
    "pyLDAvis - Python library for interactive topic model visualization. The package extracts information from a fitted LDA topic model to inform an interactive web-based visualization."
   ]
  },
  {
   "cell_type": "markdown",
   "id": "6f75fed8",
   "metadata": {},
   "source": [
    "Save the visualization to a stand-alone HTML file for easy sharing:"
   ]
  },
  {
   "cell_type": "code",
   "execution_count": null,
   "id": "e192a27c",
   "metadata": {},
   "outputs": [],
   "source": [
    "import pyLDAvis.gensim\n",
    "p = pyLDAvis.gensim.prepare(best_lda_model, data_vectorized, vectorizer)\n",
    "pyLDAvis.save_html(p, 'lda.html')"
   ]
  },
  {
   "cell_type": "code",
   "execution_count": null,
   "id": "faaeaee6",
   "metadata": {},
   "outputs": [],
   "source": []
  }
 ],
 "metadata": {
  "kernelspec": {
   "display_name": "testenv",
   "language": "python",
   "name": "testenv"
  },
  "language_info": {
   "codemirror_mode": {
    "name": "ipython",
    "version": 3
   },
   "file_extension": ".py",
   "mimetype": "text/x-python",
   "name": "python",
   "nbconvert_exporter": "python",
   "pygments_lexer": "ipython3",
   "version": "3.9.7"
  }
 },
 "nbformat": 4,
 "nbformat_minor": 5
}
