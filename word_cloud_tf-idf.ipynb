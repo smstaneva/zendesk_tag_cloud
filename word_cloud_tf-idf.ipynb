{
 "cells": [
  {
   "cell_type": "code",
   "execution_count": null,
   "metadata": {},
   "outputs": [],
   "source": [
    "import glob"
   ]
  },
  {
   "cell_type": "code",
   "execution_count": null,
   "metadata": {},
   "outputs": [],
   "source": [
    "file_list = glob.glob('C:/Users/smsta/Desktop/GIT_REPOSITORIES/zendesk_tag_cloud/newman/*.json') \n",
    "for filename in file_list:\n",
    "    print(filename)"
   ]
  },
  {
   "cell_type": "code",
   "execution_count": null,
   "metadata": {},
   "outputs": [],
   "source": [
    "import ijson\n",
    "\n",
    "\n",
    "def parse_json(json_filename):\n",
    "    with open(filename, 'r', encoding=\"utf8\") as file:\n",
    "        # load json iteratively\n",
    "        parser = ijson.parse(file)\n",
    "        for prefix, event, value in parser:\n",
    "            print('prefix={}, event={}, value={}'.format(prefix, event, value))\n",
    "\n",
    "\n",
    "if __name__ == '__main__':\n",
    "    parse_json(filename)"
   ]
  },
  {
   "cell_type": "code",
   "execution_count": null,
   "metadata": {},
   "outputs": [],
   "source": [
    "import ijson\n",
    "import re\n",
    "from string import punctuation\n",
    "\n",
    "\n",
    "def extract_ticket_text_generator(json_filename):\n",
    "    \"\"\"This function takes a list of files with tickets and extracts text from each ticket. The result is a list of text strings.\"\"\"\n",
    "    for filename in file_list:\n",
    "        with open(filename, 'r', encoding=\"utf8\") as input_file:\n",
    "            # Extract specific items from the file\n",
    "            tickets = ijson.items(input_file, 'run.executions.item.assertions.item.assertion')\n",
    "            for ticket in tickets:\n",
    "                # Extract the substring between two markers\n",
    "                l = re.findall('plain_body(.+?)public', ticket)\n",
    "                # Remove all of the punctuation in any item in the list. The result is for each ticket a list of comments.\n",
    "                m = [''.join(c for c in s if c not in punctuation) for s in l]\n",
    "                # Join list elements without any separator. The result is for each ticket a list of merged comments.\n",
    "                n = [' '.join(m)] \n",
    "                yield(n)\n",
    "                \n",
    "                \n",
    "                \n",
    "if __name__ == '__main__':\n",
    "    extract_ticket_text_generator(filename)"
   ]
  },
  {
   "cell_type": "code",
   "execution_count": null,
   "metadata": {},
   "outputs": [],
   "source": [
    "def create_txt_files():\n",
    "    \"\"\"This function takes a list of text strings and saves each ticket in a .txt file.\"\"\"\n",
    "    data = extract_ticket_text_generator(filename)\n",
    "    # Make a a flat list out of list of lists.\n",
    "    flat_list = [item for sublist in data for item in sublist]\n",
    "    for i in range(len(flat_list)):\n",
    "        with open(\"ticket_%d.txt\" % (i+1), 'w', encoding=\"utf-8\") as f:\n",
    "            f.write(flat_list[i])"
   ]
  },
  {
   "cell_type": "code",
   "execution_count": null,
   "metadata": {},
   "outputs": [],
   "source": [
    "create_txt_files()"
   ]
  },
  {
   "cell_type": "code",
   "execution_count": null,
   "metadata": {},
   "outputs": [],
   "source": [
    "from pathlib import Path\n",
    "\n",
    "all_txt_files =[]\n",
    "for file in Path(\"zendesk_txt\").rglob(\"*.txt\"):\n",
    "     all_txt_files.append(file.parent / file.name)\n",
    "# counts the length of the list\n",
    "n_files = len(all_txt_files)\n",
    "print(n_files)"
   ]
  },
  {
   "cell_type": "code",
   "execution_count": null,
   "metadata": {},
   "outputs": [],
   "source": [
    "all_docs = []\n",
    "for txt_file in all_txt_files:\n",
    "    with open(txt_file, encoding=\"utf-8\") as f:\n",
    "        txt_file_as_string = f.read()\n",
    "    all_docs.append(txt_file_as_string)"
   ]
  },
  {
   "cell_type": "code",
   "execution_count": null,
   "metadata": {},
   "outputs": [],
   "source": [
    "#import the TfidfVectorizer from Scikit-Learn.  \n",
    "from sklearn.feature_extraction.text import TfidfVectorizer\n",
    " \n",
    "vectorizer = TfidfVectorizer(analyzer='word',\n",
    "                             max_df=.65, \n",
    "                             min_df=10, \n",
    "                             stop_words='english', \n",
    "                             lowercase=True,                   \n",
    "                             token_pattern='[a-zA-Z0-9]{3,}',\n",
    "                             use_idf=True, \n",
    "                             norm=None, \n",
    "                             max_features=50000,)\n",
    "transformed_documents = vectorizer.fit_transform(all_docs)"
   ]
  },
  {
   "cell_type": "code",
   "execution_count": null,
   "metadata": {},
   "outputs": [],
   "source": [
    "transformed_documents.shape"
   ]
  },
  {
   "cell_type": "code",
   "execution_count": null,
   "metadata": {},
   "outputs": [],
   "source": [
    "transformed_documents_as_array = transformed_documents.toarray()\n",
    "# use this line of code to verify that the numpy array represents the same number of documents that we have in the file list\n",
    "len(transformed_documents_as_array)"
   ]
  },
  {
   "cell_type": "code",
   "execution_count": null,
   "metadata": {},
   "outputs": [],
   "source": [
    "import pandas as pd\n",
    "\n",
    "# make the output folder if it doesn't already exist\n",
    "Path(\"./tf_idf_output\").mkdir(parents=True, exist_ok=True)"
   ]
  },
  {
   "cell_type": "code",
   "execution_count": null,
   "metadata": {},
   "outputs": [],
   "source": [
    "# construct a list of output file paths using the previous list of text files the relative path for tf_idf_output\n",
    "output_filenames = [str(txt_file).replace(\".txt\", \".csv\").replace(\"zendesk_txt/\", \"tf_idf_output/\") for txt_file in all_txt_files]\n",
    "\n",
    "# loop each item in transformed_documents_as_array, using enumerate to keep track of the current position\n",
    "for counter, doc in enumerate(transformed_documents_as_array):\n",
    "    # construct a dataframe\n",
    "    tf_idf_tuples = list(zip(vectorizer.get_feature_names(), doc))\n",
    "    one_doc_as_df = pd.DataFrame.from_records(tf_idf_tuples, columns=['term', 'score']).sort_values(by='score', ascending=False).reset_index(drop=True)\n",
    "\n",
    "# output to a csv using the enumerated value for the filename\n",
    "one_doc_as_df.to_csv(output_filenames[counter])"
   ]
  },
  {
   "cell_type": "code",
   "execution_count": null,
   "metadata": {},
   "outputs": [],
   "source": []
  }
 ],
 "metadata": {
  "kernelspec": {
   "display_name": "testenv",
   "language": "python",
   "name": "testenv"
  },
  "language_info": {
   "codemirror_mode": {
    "name": "ipython",
    "version": 3
   },
   "file_extension": ".py",
   "mimetype": "text/x-python",
   "name": "python",
   "nbconvert_exporter": "python",
   "pygments_lexer": "ipython3",
   "version": "3.8.5"
  }
 },
 "nbformat": 4,
 "nbformat_minor": 4
}
