{
 "cells": [
  {
   "cell_type": "markdown",
   "metadata": {},
   "source": [
    "- Install py-heat-magic (pip install)"
   ]
  },
  {
   "cell_type": "code",
   "execution_count": null,
   "metadata": {},
   "outputs": [],
   "source": [
    "%load_ext heat"
   ]
  },
  {
   "cell_type": "code",
   "execution_count": 3,
   "metadata": {},
   "outputs": [
    {
     "name": "stderr",
     "output_type": "stream",
     "text": [
      "UsageError: Line magic function `%heat` not found.\n"
     ]
    }
   ],
   "source": [
    "%%heat\n",
    "def extract_ticket_list():\n",
    "    existing_ticket_list = []\n",
    "    for filename in file_list: \n",
    "        with open(filename, 'r', encoding=\"utf8\") as file: \n",
    "            output_json = json.load(file)\n",
    "            for (k, v) in output_json.items():\n",
    "                if k == \"run\":\n",
    "                    section_of_files = v[\"executions\"]\n",
    "                    for ticket in section_of_files:\n",
    "                        single_ticket = ticket\n",
    "                        existing_ticket_list.append(single_ticket)\n",
    "    return(existing_ticket_list)"
   ]
  }
 ],
 "metadata": {
  "kernelspec": {
   "display_name": "Python 3",
   "language": "python",
   "name": "python3"
  },
  "language_info": {
   "codemirror_mode": {
    "name": "ipython",
    "version": 3
   },
   "file_extension": ".py",
   "mimetype": "text/x-python",
   "name": "python",
   "nbconvert_exporter": "python",
   "pygments_lexer": "ipython3",
   "version": "3.8.5"
  }
 },
 "nbformat": 4,
 "nbformat_minor": 4
}
