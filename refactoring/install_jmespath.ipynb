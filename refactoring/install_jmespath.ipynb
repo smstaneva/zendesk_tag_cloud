{
 "cells": [
  {
   "cell_type": "markdown",
   "metadata": {},
   "source": [
    "JMESPath - a query language for JSON"
   ]
  },
  {
   "cell_type": "code",
   "execution_count": 1,
   "metadata": {},
   "outputs": [],
   "source": [
    "import jmespath"
   ]
  },
  {
   "cell_type": "markdown",
   "metadata": {},
   "source": [
    "This function takes two json files, extracts tickets from files and the final output is a ticket list:"
   ]
  },
  {
   "cell_type": "code",
   "execution_count": null,
   "metadata": {},
   "outputs": [],
   "source": [
    "import json \n",
    "def create_ticket_list():\n",
    "    ticket_list = []\n",
    "    for filename in file_list: \n",
    "        with open(filename, 'r', encoding=\"utf8\") as file: \n",
    "            output_json = json.load(file)\n",
    "            two_files = jmespath.search(\"run.executions[].assertions[].assertion\", output_json) \n",
    "            ticket_list.append(two_files)\n",
    "            flatten = jmespath.search(\"[]\", ticket_list)\n",
    "    return(flatten)"
   ]
  },
  {
   "cell_type": "code",
   "execution_count": null,
   "metadata": {},
   "outputs": [],
   "source": [
    "#second version This function takes a ticket and extracts needed section from it:\n",
    "def extract_text_from_ticket(ticket):\n",
    "        res2 = json.loads(ticket)\n",
    "        text = jmespath.search(\"comments[*].body\", res2) \n",
    "        return(text)"
   ]
  }
 ],
 "metadata": {
  "kernelspec": {
   "display_name": "Python 3",
   "language": "python",
   "name": "python3"
  },
  "language_info": {
   "codemirror_mode": {
    "name": "ipython",
    "version": 3
   },
   "file_extension": ".py",
   "mimetype": "text/x-python",
   "name": "python",
   "nbconvert_exporter": "python",
   "pygments_lexer": "ipython3",
   "version": "3.8.5"
  }
 },
 "nbformat": 4,
 "nbformat_minor": 4
}
