{
 "cells": [
  {
   "cell_type": "markdown",
   "metadata": {},
   "source": [
    "# <font color='#31708f'><center>Zendesk Tickets Topic Modeling</center></font>"
   ]
  },
  {
   "cell_type": "code",
   "execution_count": 2,
   "metadata": {},
   "outputs": [],
   "source": [
    "import glob"
   ]
  },
  {
   "cell_type": "code",
   "execution_count": 4,
   "metadata": {},
   "outputs": [
    {
     "name": "stdout",
     "output_type": "stream",
     "text": [
      "<class 'list'>\n"
     ]
    }
   ],
   "source": [
    "file_list = glob.glob('C:/Users/smsta/Desktop/GIT_REPOSITORIES/zendesk_tag_cloud/newman/*.json') "
   ]
  },
  {
   "cell_type": "code",
   "execution_count": 5,
   "metadata": {},
   "outputs": [
    {
     "name": "stdout",
     "output_type": "stream",
     "text": [
      "C:/Users/smsta/Desktop/GIT_REPOSITORIES/zendesk_tag_cloud/newman\\newman-run-report-2020-06-25-06-42-13-124-0-ticketid-upto-3000.json\n",
      "C:/Users/smsta/Desktop/GIT_REPOSITORIES/zendesk_tag_cloud/newman\\newman-run-report-2020-06-25-07-10-36-030-0-ticketid-upto-6000.json\n",
      "C:/Users/smsta/Desktop/GIT_REPOSITORIES/zendesk_tag_cloud/newman\\newman-run-report-2020-06-25-07-39-30-838-0-ticketid-upto-9000.json\n",
      "C:/Users/smsta/Desktop/GIT_REPOSITORIES/zendesk_tag_cloud/newman\\newman-run-report-2020-06-25-08-09-36-127-0-ticketid-upto-12000.json\n",
      "C:/Users/smsta/Desktop/GIT_REPOSITORIES/zendesk_tag_cloud/newman\\newman-run-report-2020-06-25-12-31-11-446-0-ticketid-upto-15000.json\n",
      "C:/Users/smsta/Desktop/GIT_REPOSITORIES/zendesk_tag_cloud/newman\\newman-run-report-2020-06-25-13-02-56-064-0-ticketid-upto-18000.json\n",
      "C:/Users/smsta/Desktop/GIT_REPOSITORIES/zendesk_tag_cloud/newman\\newman-run-report-2020-06-25-17-00-27-428-0-ticketid-upto-21000.json\n",
      "C:/Users/smsta/Desktop/GIT_REPOSITORIES/zendesk_tag_cloud/newman\\newman-run-report-2020-06-26-18-55-57-968-0-ticketid-upto-24000.json\n",
      "C:/Users/smsta/Desktop/GIT_REPOSITORIES/zendesk_tag_cloud/newman\\newman-run-report-2020-06-26-19-30-30-838-0-ticketid-upto-27000.json\n",
      "C:/Users/smsta/Desktop/GIT_REPOSITORIES/zendesk_tag_cloud/newman\\newman-run-report-2020-06-26-20-01-06-316-0-ticketid-upto-30000.json\n",
      "C:/Users/smsta/Desktop/GIT_REPOSITORIES/zendesk_tag_cloud/newman\\newman-run-report-2020-06-26-20-35-02-826-0-ticketid-upto-33000.json\n",
      "C:/Users/smsta/Desktop/GIT_REPOSITORIES/zendesk_tag_cloud/newman\\newman-run-report-2020-06-26-21-05-38-515-0-ticketid-upto-36000.json\n",
      "C:/Users/smsta/Desktop/GIT_REPOSITORIES/zendesk_tag_cloud/newman\\newman-run-report-2020-06-28-11-01-42-764-0-ticketid-upto-37000.json\n",
      "C:/Users/smsta/Desktop/GIT_REPOSITORIES/zendesk_tag_cloud/newman\\newman-run-report-2020-06-28-11-16-03-057-0-ticketid-upto-38000.json\n",
      "C:/Users/smsta/Desktop/GIT_REPOSITORIES/zendesk_tag_cloud/newman\\newman-run-report-2020-06-28-11-29-43-224-0-ticketid-upto-39000.json\n",
      "C:/Users/smsta/Desktop/GIT_REPOSITORIES/zendesk_tag_cloud/newman\\newman-run-report-2020-06-28-11-44-50-530-0-ticketid-upto-40000.json\n",
      "C:/Users/smsta/Desktop/GIT_REPOSITORIES/zendesk_tag_cloud/newman\\newman-run-report-2020-06-28-13-39-28-403-0-ticketid-upto-41000.json\n",
      "C:/Users/smsta/Desktop/GIT_REPOSITORIES/zendesk_tag_cloud/newman\\newman-run-report-2020-06-28-13-53-39-459-0-ticketid-upto-42000.json\n",
      "C:/Users/smsta/Desktop/GIT_REPOSITORIES/zendesk_tag_cloud/newman\\newman-run-report-2020-06-28-15-59-55-677-0-ticketid-upto-43000.json\n",
      "C:/Users/smsta/Desktop/GIT_REPOSITORIES/zendesk_tag_cloud/newman\\newman-run-report-2020-06-28-16-13-01-204-0-ticketid-upto-44000.json\n",
      "C:/Users/smsta/Desktop/GIT_REPOSITORIES/zendesk_tag_cloud/newman\\newman-run-report-2020-06-28-16-27-10-564-0-ticketid-upto-45000.json\n",
      "C:/Users/smsta/Desktop/GIT_REPOSITORIES/zendesk_tag_cloud/newman\\newman-run-report-2020-06-28-17-15-17-608-0-ticketid-upto-46000.json\n",
      "C:/Users/smsta/Desktop/GIT_REPOSITORIES/zendesk_tag_cloud/newman\\newman-run-report-2020-06-28-17-25-47-726-0-ticketid-upto-47000.json\n",
      "C:/Users/smsta/Desktop/GIT_REPOSITORIES/zendesk_tag_cloud/newman\\newman-run-report-2020-06-28-17-39-21-057-0-ticketid-upto-48000.json\n",
      "C:/Users/smsta/Desktop/GIT_REPOSITORIES/zendesk_tag_cloud/newman\\newman-run-report-2020-06-28-18-46-58-086-0-ticketid-upto-49000.json\n",
      "C:/Users/smsta/Desktop/GIT_REPOSITORIES/zendesk_tag_cloud/newman\\newman-run-report-2020-06-28-18-57-10-514-0-ticketid-upto-50000.json\n",
      "C:/Users/smsta/Desktop/GIT_REPOSITORIES/zendesk_tag_cloud/newman\\newman-run-report-2020-06-28-19-08-09-903-0-ticketid-upto-51000.json\n",
      "C:/Users/smsta/Desktop/GIT_REPOSITORIES/zendesk_tag_cloud/newman\\newman-run-report-2020-06-28-19-43-42-690-0-ticketid-upto-52000.json\n",
      "C:/Users/smsta/Desktop/GIT_REPOSITORIES/zendesk_tag_cloud/newman\\newman-run-report-2020-06-28-19-54-57-090-0-ticketid-upto-53000.json\n",
      "C:/Users/smsta/Desktop/GIT_REPOSITORIES/zendesk_tag_cloud/newman\\newman-run-report-2020-06-28-20-05-59-896-0-ticketid-upto-54000.json\n",
      "C:/Users/smsta/Desktop/GIT_REPOSITORIES/zendesk_tag_cloud/newman\\newman-run-report-2020-06-28-20-17-05-742-0-ticketid-upto-55000.json\n",
      "C:/Users/smsta/Desktop/GIT_REPOSITORIES/zendesk_tag_cloud/newman\\newman-run-report-2020-06-28-20-46-57-198-0-ticketid-upto-56000.json\n",
      "C:/Users/smsta/Desktop/GIT_REPOSITORIES/zendesk_tag_cloud/newman\\newman-run-report-2020-06-28-20-57-31-128-0-ticketid-upto-57000.json\n",
      "C:/Users/smsta/Desktop/GIT_REPOSITORIES/zendesk_tag_cloud/newman\\newman-run-report-2020-06-28-21-08-15-225-0-ticketid-upto-58000.json\n",
      "C:/Users/smsta/Desktop/GIT_REPOSITORIES/zendesk_tag_cloud/newman\\newman-run-report-2020-06-28-21-19-19-746-0-ticketid-upto-59046.json\n"
     ]
    }
   ],
   "source": [
    "for filename in file_list: \n",
    "    print(filename)"
   ]
  },
  {
   "cell_type": "markdown",
   "metadata": {},
   "source": [
    " View the structure of the json files by using ijson parser:"
   ]
  },
  {
   "cell_type": "code",
   "execution_count": null,
   "metadata": {},
   "outputs": [],
   "source": [
    "import ijson\n",
    "\n",
    "\n",
    "def parse_json(json_filename):\n",
    "    with open(filename, 'r', encoding=\"utf8\") as file:\n",
    "        # load json iteratively\n",
    "        parser = ijson.parse(file)\n",
    "        for prefix, event, value in parser:\n",
    "            print('prefix={}, event={}, value={}'.format(prefix, event, value))\n",
    "\n",
    "\n",
    "if __name__ == '__main__':\n",
    "    parse_json(filename)"
   ]
  },
  {
   "cell_type": "code",
   "execution_count": null,
   "metadata": {},
   "outputs": [],
   "source": [
    "import ijson\n",
    "import re\n",
    "import re\n",
    "from string import punctuation\n",
    "\n",
    "\n",
    "def extract_ticket_text(json_filename):\n",
    "    \"\"\"This function takes a list of files with tickets and extracts text from each ticket. The result is a list of text strings.\"\"\"\n",
    "    for filename in file_list:\n",
    "        with open(filename, 'r', encoding=\"utf8\") as input_file:\n",
    "            # Extract specific items from the file\n",
    "            tickets = ijson.items(input_file, 'run.executions.item.assertions.item.assertion')\n",
    "            for ticket in tickets:\n",
    "                # Extract the substring between two markers\n",
    "                l = re.findall('plain_body(.+?)public', ticket)\n",
    "                # Remove all of the punctuation in any item in the list. The result is for each ticket a list of comments.\n",
    "                m = [''.join(c for c in s if c not in punctuation) for s in l]\n",
    "                # Join list elements without any separator. The result is for each ticket a list of merged comments.\n",
    "                n = [' '.join(m)] \n",
    "                yield(n)\n",
    "                \n",
    "                \n",
    "if __name__ == '__main__':\n",
    "    extract_ticket_text(filename)"
   ]
  }
 ],
 "metadata": {
  "anaconda-cloud": {},
  "kernelspec": {
   "display_name": "Python 3",
   "language": "python",
   "name": "python3"
  },
  "language_info": {
   "codemirror_mode": {
    "name": "ipython",
    "version": 3
   },
   "file_extension": ".py",
   "mimetype": "text/x-python",
   "name": "python",
   "nbconvert_exporter": "python",
   "pygments_lexer": "ipython3",
   "version": "3.8.5"
  }
 },
 "nbformat": 4,
 "nbformat_minor": 4
}
