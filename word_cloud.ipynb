{
 "cells": [
  {
   "cell_type": "markdown",
   "metadata": {},
   "source": [
    "# <font color='#31708f'><center>Zendesk Tickets Word Cloud </center></font>"
   ]
  },
  {
   "cell_type": "markdown",
   "metadata": {},
   "source": [
    "Set up the development environment: \n",
    "- Install Git\n",
    "- Install Anaconda distribution\n",
    "- Install Node.js\n",
    "- Install Postman native app"
   ]
  },
  {
   "cell_type": "markdown",
   "metadata": {},
   "source": [
    "<div class=\"alert alert-block alert-info\">In Git Bash</div>"
   ]
  },
  {
   "cell_type": "markdown",
   "metadata": {},
   "source": [
    "Set the working directory:"
   ]
  },
  {
   "cell_type": "raw",
   "metadata": {},
   "source": [
    "cd Desktop/JUPYTER_NOTEBOOKS"
   ]
  },
  {
   "cell_type": "markdown",
   "metadata": {},
   "source": [
    "- Install Newman (command-line collection runner for Postman):"
   ]
  },
  {
   "cell_type": "raw",
   "metadata": {},
   "source": [
    "npm install newman -global"
   ]
  },
  {
   "cell_type": "markdown",
   "metadata": {},
   "source": [
    "The following code block shows successful run of the command:"
   ]
  },
  {
   "cell_type": "raw",
   "metadata": {},
   "source": [
    "The User@PC MINGW64 ~/Desktop/JUPYTER_NOTEBOOKS\n",
    "$ npm install newman -global\n",
    "C:\\Users\\smsta\\AppData\\Roaming\\npm\\newman -> C:\\Users\\smsta\\AppData\\Roaming\\npm\\node_modules\\newman\\bin\\newman.js\n",
    "+ newman@5.1.0\n",
    "added 157 packages from 197 contributors in 61.806s"
   ]
  },
  {
   "cell_type": "markdown",
   "metadata": {},
   "source": [
    "<div class=\"alert alert-block alert-info\">In Base64</div>"
   ]
  },
  {
   "cell_type": "markdown",
   "metadata": {},
   "source": [
    "AUTHORIZATION - Basic Authetication and API tokens<br> \n",
    "Use your company email address and Zendesk API key. The credentials must be sent in an Authorization header in the HTTP request. "
   ]
  },
  {
   "cell_type": "markdown",
   "metadata": {},
   "source": [
    "Authenticate a request with basic authentication and API token: \n",
    "- Combine your email address/token with your Zendesk API key with a colon:\n",
    "```svetlana.staneva@eventsforce.com/token: {zendesk_api_key}```\n",
    "- Base64-encode the resulting string:\n",
    "```amRvZUBleGFtcGxlLmNvbTpwYSQkdzByZA==```"
   ]
  },
  {
   "cell_type": "markdown",
   "metadata": {},
   "source": [
    "<div class=\"alert alert-block alert-info\">In TextMechanic<div>"
   ]
  },
  {
   "cell_type": "markdown",
   "metadata": {},
   "source": [
    "- Generate a lists of numbers (1-3000, 3001-5000, etc.) up to 59046\n",
    "- Create a runner.csv files with a column ticket_id and listing numbers from 1 to 3000, etc.\n",
    "- Move the files to the working directory JUPYTER_NOTEBOOKS"
   ]
  },
  {
   "cell_type": "markdown",
   "metadata": {},
   "source": [
    "<div class=\"alert alert-block alert-info\">In Postman \n",
    "<div>"
   ]
  },
  {
   "cell_type": "markdown",
   "metadata": {},
   "source": [
    "Postman Comments Collection<br>\n",
    "The Comments is a Postman collection that lists comments for Zendesk tickets from number 1 to 59046."
   ]
  },
  {
   "cell_type": "markdown",
   "metadata": {},
   "source": [
    "Create a new environment: \n",
    "- Click on the Cog icon \n",
    "- Click Add \n",
    "- In Add Environment enter a name for the environment - for instance, Test \n",
    "- Click Add"
   ]
  },
  {
   "cell_type": "markdown",
   "metadata": {},
   "source": [
    "Select an active environment:\n",
    "- Click the dropdown menu in the upper right corner of the Postman app to select an active environment (Test)"
   ]
  },
  {
   "cell_type": "markdown",
   "metadata": {},
   "source": [
    "Request data via GET request: https://eventsforce.zendesk.com/api/v2/tickets/{ticket_id}/comments.json"
   ]
  },
  {
   "cell_type": "markdown",
   "metadata": {},
   "source": [
    "In Headers include the base64-encoded string: \n",
    "- In Headers go to Presets > Manage Presets\n",
    "- Add the Authorization and click Add: \n",
    "```Authorization: Basic {base64-encoded-string}```"
   ]
  },
  {
   "cell_type": "markdown",
   "metadata": {},
   "source": [
    "In Tests add the following line of code:"
   ]
  },
  {
   "cell_type": "raw",
   "metadata": {},
   "source": [
    "tests[responseBody] = true;"
   ]
  },
  {
   "cell_type": "markdown",
   "metadata": {},
   "source": [
    "Create Comments Collection\n",
    "- Click on Collections > Create New Collection\n",
    "- Enter a name - for instance, Comments and click Create"
   ]
  },
  {
   "cell_type": "markdown",
   "metadata": {},
   "source": [
    "Save the Request in the Collection: \n",
    "- Click on Save As\n",
    "- Select the Collection and click Save"
   ]
  },
  {
   "cell_type": "markdown",
   "metadata": {},
   "source": [
    "Run the collection locally in the Postman Collection Runner with the runner_head.csv file."
   ]
  },
  {
   "cell_type": "markdown",
   "metadata": {},
   "source": [
    "Export the Comments collection: \n",
    "- Click on Collections \n",
    "- Hover over the Comments collection and click on the dots '...' that appear\n",
    "- Click Export and again Export\n",
    "- Save the file on the Desktop\n",
    "- The exported file is COMMENTS.postman_collection.json\n",
    "- Move the file COMMENTS.postman_collection.json to the working directory JUPYTER_NOTEBOOKS"
   ]
  },
  {
   "cell_type": "markdown",
   "metadata": {},
   "source": [
    "<div class=\"alert alert-block alert-info\">In Git Bash</div>"
   ]
  },
  {
   "cell_type": "markdown",
   "metadata": {},
   "source": [
    "Run the Comments collection with the additional runner.csv file of key values (by 3000) and generate report in json."
   ]
  },
  {
   "cell_type": "raw",
   "metadata": {},
   "source": [
    "newman run COMMENTS.postman_collection.json -d runner.csv -r cli,json"
   ]
  },
  {
   "cell_type": "markdown",
   "metadata": {},
   "source": [
    "In case it gives an error 'JavaScript heap out of memory' run the code in the following format:"
   ]
  },
  {
   "cell_type": "raw",
   "metadata": {},
   "source": [
    "NODE_OPTIONS=\"--max_old_space_size=2048\" newman run COMMENTS.postman_collection.json -d runner.csv -r cli,json"
   ]
  },
  {
   "cell_type": "markdown",
   "metadata": {},
   "source": [
    "or"
   ]
  },
  {
   "cell_type": "raw",
   "metadata": {},
   "source": [
    "NODE_OPTIONS=\"--max_old_space_size=3072\" newman run COMMENTS.postman_collection.json -d runner.csv -r cli,json"
   ]
  },
  {
   "cell_type": "markdown",
   "metadata": {},
   "source": [
    "or run the Comments collection with the additional runner.csv file of key values (by 1000) and generate report in json."
   ]
  },
  {
   "cell_type": "markdown",
   "metadata": {},
   "source": [
    "In order to run multiple runs with different runner.csv files, create a name.sh file listing the commands:"
   ]
  },
  {
   "cell_type": "raw",
   "metadata": {},
   "source": [
    "newman run COMMENTS.postman_collection.json -d runner_1000.csv -r cli,json\n",
    "newman run COMMENTS.postman_collection.json -d runner_2000.csv -r cli,json"
   ]
  },
  {
   "cell_type": "markdown",
   "metadata": {},
   "source": [
    "Run the .sh file:"
   ]
  },
  {
   "cell_type": "raw",
   "metadata": {},
   "source": [
    "bash name.sh"
   ]
  }
 ],
 "metadata": {
  "kernelspec": {
   "display_name": "Python 3",
   "language": "python",
   "name": "python3"
  },
  "language_info": {
   "codemirror_mode": {
    "name": "ipython",
    "version": 3
   },
   "file_extension": ".py",
   "mimetype": "text/x-python",
   "name": "python",
   "nbconvert_exporter": "python",
   "pygments_lexer": "ipython3",
   "version": "3.7.6"
  }
 },
 "nbformat": 4,
 "nbformat_minor": 2
}
