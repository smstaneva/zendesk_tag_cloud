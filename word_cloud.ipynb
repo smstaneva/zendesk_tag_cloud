{
 "cells": [
  {
   "cell_type": "markdown",
   "metadata": {},
   "source": [
    "# <font color='#31708f'><center>Zendesk Tickets Word Cloud </center></font>"
   ]
  },
  {
   "cell_type": "markdown",
   "metadata": {},
   "source": [
    "Set up the development environment: \n",
    "- Install Git\n",
    "- Install Anaconda distribution\n",
    "- Install Node.js\n",
    "- Install Postman native app"
   ]
  },
  {
   "cell_type": "markdown",
   "metadata": {},
   "source": [
    "Create new Python environment and check if we are in the right environment\n",
    "- create the new environment without asking for confirmation (conda create --name testenv pandas jupyter ipykernel tabulate -y)<br>\n",
    "- activate the environment (activate testenv)<br>\n",
    "- use ipykernel to register your new environment as a kernel named testenv (python -m ipykernel install --user --name testenv --display-name \"testenv\")<br> \n",
    "- import tabulate"
   ]
  },
  {
   "cell_type": "markdown",
   "metadata": {},
   "source": [
    "Set up jekyll for gh pages:\n",
    "- Install Ruby (verify installation: ruby -v; gem -v)\n",
    "- Install jekyll bundler (gem install; verify installation: jekyll -v)\n",
    "- cd Documents (in git bash)\n",
    "- jekyll new mynewsite\n",
    "- cd mynewsite\n",
    "- bundle exec jekyll serve\n",
    "- gem \"jekyll-theme-hydeout\" (in the gemfile)\n",
    "- bundle install (in git bash)\n",
    "- theme: jekyll-theme-hydeout (in _config file)"
   ]
  },
  {
   "cell_type": "markdown",
   "metadata": {},
   "source": [
    "In the new environment for word cloud install the following: \n",
    "- Install package wordcloud (conda install -c conda-forge wordcloud)"
   ]
  },
  {
   "cell_type": "markdown",
   "metadata": {},
   "source": [
    "In the new environment for topic modelling install the following:\n",
    "- Install package pandas (conda install)\n",
    "- Install package nltk (conda install)\n",
    "- Install package spacy (conda install)\n",
    "- Install package gensim (pip install)\n",
    "- Install package sklearn (pip install)\n",
    "- Install package pyLDAvis (pip install)\n",
    "- Install package scipy (pip uninstall scipy; conda install)\n",
    "- Download package en-core-web-sm (python -m spacy download en)"
   ]
  },
  {
   "cell_type": "markdown",
   "metadata": {},
   "source": [
    "In the new environment for topic modelling for refactoring install the following:"
   ]
  },
  {
   "cell_type": "markdown",
   "metadata": {},
   "source": [
    "- Install ijson (conda install)"
   ]
  },
  {
   "cell_type": "markdown",
   "metadata": {},
   "source": [
    "<div class=\"alert alert-block alert-info\">In Anaconda Prompt</div>"
   ]
  },
  {
   "cell_type": "markdown",
   "metadata": {},
   "source": [
    "Get a list of all my environments, active environment is shown with *. It will display the base environment."
   ]
  },
  {
   "cell_type": "code",
   "execution_count": null,
   "metadata": {},
   "outputs": [],
   "source": [
    "conda env list"
   ]
  },
  {
   "cell_type": "markdown",
   "metadata": {},
   "source": [
    "Create a new environment named mynewenv:"
   ]
  },
  {
   "cell_type": "code",
   "execution_count": null,
   "metadata": {},
   "outputs": [],
   "source": [
    "conda create -n mynewenv"
   ]
  },
  {
   "cell_type": "markdown",
   "metadata": {},
   "source": [
    "View the new environment created:"
   ]
  },
  {
   "cell_type": "code",
   "execution_count": null,
   "metadata": {},
   "outputs": [],
   "source": [
    "conda env list"
   ]
  },
  {
   "cell_type": "markdown",
   "metadata": {},
   "source": [
    "Section below to be revised:"
   ]
  },
  {
   "cell_type": "markdown",
   "metadata": {},
   "source": [
    "View Jupyter Lab:"
   ]
  },
  {
   "cell_type": "markdown",
   "metadata": {},
   "source": [
    "http://localhost:8888/lab?"
   ]
  },
  {
   "cell_type": "markdown",
   "metadata": {},
   "source": [
    "Section above to be revised."
   ]
  },
  {
   "cell_type": "code",
   "execution_count": null,
   "metadata": {},
   "outputs": [],
   "source": []
  },
  {
   "cell_type": "markdown",
   "metadata": {},
   "source": [
    "<div class=\"alert alert-block alert-info\">In Git Bash</div>"
   ]
  },
  {
   "cell_type": "markdown",
   "metadata": {},
   "source": [
    "Set the working directory:"
   ]
  },
  {
   "cell_type": "raw",
   "metadata": {},
   "source": [
    "cd Desktop/JUPYTER_NOTEBOOKS"
   ]
  },
  {
   "cell_type": "markdown",
   "metadata": {},
   "source": [
    "- Install Newman (command-line collection runner for Postman):"
   ]
  },
  {
   "cell_type": "raw",
   "metadata": {},
   "source": [
    "npm install newman -global"
   ]
  },
  {
   "cell_type": "markdown",
   "metadata": {},
   "source": [
    "The following code block shows successful run of the command:"
   ]
  },
  {
   "cell_type": "raw",
   "metadata": {},
   "source": [
    "The User@PC MINGW64 ~/Desktop/JUPYTER_NOTEBOOKS\n",
    "$ npm install newman -global\n",
    "C:\\Users\\smsta\\AppData\\Roaming\\npm\\newman -> C:\\Users\\smsta\\AppData\\Roaming\\npm\\node_modules\\newman\\bin\\newman.js\n",
    "+ newman@5.1.0\n",
    "added 157 packages from 197 contributors in 61.806s"
   ]
  },
  {
   "cell_type": "markdown",
   "metadata": {},
   "source": [
    "<div class=\"alert alert-block alert-info\">In Base64</div>"
   ]
  },
  {
   "cell_type": "markdown",
   "metadata": {},
   "source": [
    "AUTHORIZATION - Basic Authetication and API tokens<br> \n",
    "Use your company email address and Zendesk API key. The credentials must be sent in an Authorization header in the HTTP request. "
   ]
  },
  {
   "cell_type": "markdown",
   "metadata": {},
   "source": [
    "Authenticate a request with basic authentication and API token: \n",
    "- Combine your email address/token with your Zendesk API key with a colon:\n",
    "```svetlana.staneva@eventsforce.com/token: {zendesk_api_key}```\n",
    "- Base64-encode the resulting string:\n",
    "```amRvZUBleGFtcGxlLmNvbTpwYSQkdzByZA==```"
   ]
  },
  {
   "cell_type": "markdown",
   "metadata": {},
   "source": [
    "<div class=\"alert alert-block alert-info\">In TextMechanic<div>"
   ]
  },
  {
   "cell_type": "markdown",
   "metadata": {},
   "source": [
    "- Generate a lists of numbers (1-3000, 3001-5000, etc.) up to 59046\n",
    "- Create a runner.csv files with a column ticket_id and listing numbers from 1 to 3000, etc.\n",
    "- Move the files to the working directory JUPYTER_NOTEBOOKS"
   ]
  },
  {
   "cell_type": "markdown",
   "metadata": {},
   "source": [
    "<div class=\"alert alert-block alert-info\">In Postman \n",
    "<div>"
   ]
  },
  {
   "cell_type": "markdown",
   "metadata": {},
   "source": [
    "Postman Comments Collection<br>\n",
    "The Comments is a Postman collection that lists comments for Zendesk tickets from number 1 to 59046."
   ]
  },
  {
   "cell_type": "markdown",
   "metadata": {},
   "source": [
    "Create a new environment: \n",
    "- Click on the Cog icon \n",
    "- Click Add \n",
    "- In Add Environment enter a name for the environment - for instance, Test \n",
    "- Click Add"
   ]
  },
  {
   "cell_type": "markdown",
   "metadata": {},
   "source": [
    "Select an active environment:\n",
    "- Click the dropdown menu in the upper right corner of the Postman app to select an active environment (Test)"
   ]
  },
  {
   "cell_type": "markdown",
   "metadata": {},
   "source": [
    "Request data via GET request: https://eventsforce.zendesk.com/api/v2/tickets/{ticket_id}/comments.json"
   ]
  },
  {
   "cell_type": "markdown",
   "metadata": {},
   "source": [
    "In Headers include the base64-encoded string: \n",
    "- In Headers go to Presets > Manage Presets\n",
    "- Add the Authorization and click Add: \n",
    "```Authorization: Basic {base64-encoded-string}```"
   ]
  },
  {
   "cell_type": "markdown",
   "metadata": {},
   "source": [
    "In Tests add the following line of code:"
   ]
  },
  {
   "cell_type": "raw",
   "metadata": {},
   "source": [
    "tests[responseBody] = true;"
   ]
  },
  {
   "cell_type": "markdown",
   "metadata": {},
   "source": [
    "Create Comments Collection\n",
    "- Click on Collections > Create New Collection\n",
    "- Enter a name - for instance, Comments and click Create"
   ]
  },
  {
   "cell_type": "markdown",
   "metadata": {},
   "source": [
    "Save the Request in the Collection: \n",
    "- Click on Save As\n",
    "- Select the Collection and click Save"
   ]
  },
  {
   "cell_type": "markdown",
   "metadata": {},
   "source": [
    "Run the collection locally in the Postman Collection Runner with the runner_head.csv file."
   ]
  },
  {
   "cell_type": "markdown",
   "metadata": {},
   "source": [
    "Export the Comments collection: \n",
    "- Click on Collections \n",
    "- Hover over the Comments collection and click on the dots '...' that appear\n",
    "- Click Export and again Export\n",
    "- Save the file on the Desktop\n",
    "- The exported file is COMMENTS.postman_collection.json\n",
    "- Move the file COMMENTS.postman_collection.json to the working directory JUPYTER_NOTEBOOKS"
   ]
  },
  {
   "cell_type": "markdown",
   "metadata": {},
   "source": [
    "<div class=\"alert alert-block alert-info\">In Git Bash</div>"
   ]
  },
  {
   "cell_type": "markdown",
   "metadata": {},
   "source": [
    "Run the Comments collection with the additional runner.csv file of key values (by 3000) and generate report in json."
   ]
  },
  {
   "cell_type": "raw",
   "metadata": {},
   "source": [
    "newman run COMMENTS.postman_collection.json -d runner.csv -r cli,json"
   ]
  },
  {
   "cell_type": "markdown",
   "metadata": {},
   "source": [
    "In case it gives an error 'JavaScript heap out of memory' run the code in the following format:"
   ]
  },
  {
   "cell_type": "raw",
   "metadata": {},
   "source": [
    "NODE_OPTIONS=\"--max_old_space_size=2048\" newman run COMMENTS.postman_collection.json -d runner.csv -r cli,json"
   ]
  },
  {
   "cell_type": "markdown",
   "metadata": {},
   "source": [
    "or"
   ]
  },
  {
   "cell_type": "raw",
   "metadata": {},
   "source": [
    "NODE_OPTIONS=\"--max_old_space_size=3072\" newman run COMMENTS.postman_collection.json -d runner.csv -r cli,json"
   ]
  },
  {
   "cell_type": "markdown",
   "metadata": {},
   "source": [
    "or run the Comments collection with the additional runner.csv file of key values (by 1000) and generate report in json."
   ]
  },
  {
   "cell_type": "markdown",
   "metadata": {},
   "source": [
    "In order to run multiple runs with different runner.csv files, create a name.sh file listing the commands:"
   ]
  },
  {
   "cell_type": "raw",
   "metadata": {},
   "source": [
    "newman run COMMENTS.postman_collection.json -d runner_1000.csv -r cli,json\n",
    "newman run COMMENTS.postman_collection.json -d runner_2000.csv -r cli,json"
   ]
  },
  {
   "cell_type": "markdown",
   "metadata": {},
   "source": [
    "Run the .sh file:"
   ]
  },
  {
   "cell_type": "raw",
   "metadata": {},
   "source": [
    "bash name.sh"
   ]
  },
  {
   "cell_type": "markdown",
   "metadata": {},
   "source": [
    "<div class=\"alert alert-block alert-info\">In Jupyter Notebook</div>"
   ]
  },
  {
   "cell_type": "markdown",
   "metadata": {},
   "source": [
    "Check the working environment:"
   ]
  },
  {
   "cell_type": "code",
   "execution_count": null,
   "metadata": {},
   "outputs": [],
   "source": [
    "conda list"
   ]
  },
  {
   "cell_type": "markdown",
   "metadata": {},
   "source": [
    "In mynewenv Python is version 3.8.5, in the base environment Python is version 3.8.3."
   ]
  },
  {
   "cell_type": "code",
   "execution_count": null,
   "metadata": {},
   "outputs": [],
   "source": [
    "import sys\n",
    "print(sys.version)"
   ]
  },
  {
   "cell_type": "markdown",
   "metadata": {},
   "source": [
    "Make sure glob.glob returns a list of files. List all json files in newman folder. To be used in topic model as well:"
   ]
  },
  {
   "cell_type": "code",
   "execution_count": null,
   "metadata": {},
   "outputs": [],
   "source": [
    "import glob\n",
    "file_list = glob.glob('C:/Users/smsta/Desktop/GIT_REPOSITORIES/zendesk_tag_cloud/newman/*.json') \n",
    "for f in file_list:\n",
    "    print(f)"
   ]
  },
  {
   "cell_type": "markdown",
   "metadata": {},
   "source": [
    "Process multiple files. Parse JSON - convert from JSON to Python. When you open the file specify the encoding."
   ]
  },
  {
   "cell_type": "code",
   "execution_count": null,
   "metadata": {},
   "outputs": [],
   "source": [
    "import json \n",
    "def extract_all():\n",
    "    final_list =[]  \n",
    "    for filename in file_list: \n",
    "        with open(filename, 'r', encoding=\"utf8\") as file: \n",
    "            output_json = json.load(file)\n",
    "            for (k, v) in output_json.items():\n",
    "                if k == \"run\":\n",
    "                    executions_values = v[\"executions\"]\n",
    "                    for ticket in executions_values:\n",
    "                        single_ticket = ticket\n",
    "                        for (k1, v1) in single_ticket.items():\n",
    "                            if k1 == \"assertions\":\n",
    "                                for elem in v1: \n",
    "                                    for (k2, v2) in elem.items():\n",
    "                                        if k2 == 'assertion':\n",
    "                                            res2 = json.loads(v2)\n",
    "                                            for (k3, v3) in res2.items():\n",
    "                                                if k3 == 'comments':\n",
    "                                                    for elem1 in v3:\n",
    "                                                        for (k4, v4) in elem1.items():\n",
    "                                                            if k4 == 'body':\n",
    "                                                                final_list.append(v4)\n",
    "    return(final_list)"
   ]
  },
  {
   "cell_type": "markdown",
   "metadata": {},
   "source": [
    "(Optional) Call the function to see the output, when a smaller number of files:"
   ]
  },
  {
   "cell_type": "code",
   "execution_count": null,
   "metadata": {},
   "outputs": [],
   "source": [
    "extract_all()"
   ]
  },
  {
   "cell_type": "markdown",
   "metadata": {},
   "source": [
    "Assign the output of the function to a variable:"
   ]
  },
  {
   "cell_type": "code",
   "execution_count": null,
   "metadata": {},
   "outputs": [],
   "source": [
    "output = extract_all()"
   ]
  },
  {
   "cell_type": "markdown",
   "metadata": {},
   "source": [
    "<div class=\"alert alert-block alert-info\">In Anaconda Prompt (run as Admin)</div>"
   ]
  },
  {
   "cell_type": "markdown",
   "metadata": {},
   "source": [
    "View that iwordcloud has been installed:"
   ]
  },
  {
   "cell_type": "code",
   "execution_count": null,
   "metadata": {},
   "outputs": [],
   "source": [
    "conda list"
   ]
  },
  {
   "cell_type": "markdown",
   "metadata": {},
   "source": [
    "<div class=\"alert alert-block alert-info\">In Jupyter Notebook</div>"
   ]
  },
  {
   "cell_type": "code",
   "execution_count": null,
   "metadata": {},
   "outputs": [],
   "source": [
    "import matplotlib.pyplot as plt\n",
    "from wordcloud import WordCloud, STOPWORDS"
   ]
  },
  {
   "cell_type": "markdown",
   "metadata": {},
   "source": [
    "Remove repetitive words:"
   ]
  },
  {
   "cell_type": "code",
   "execution_count": null,
   "metadata": {},
   "outputs": [],
   "source": [
    "stopwords = set(STOPWORDS)\n",
    "\n",
    "wordcloud = WordCloud(stopwords=stopwords,\n",
    "                      background_color=\"white\",\n",
    "                      width = 4000,\n",
    "                      height = 2000,\n",
    "                      max_words=200,  \n",
    "                      collocations = False\n",
    "                     ).generate(' '.join(output))\n",
    "\n",
    "plt.figure( figsize=(20,10) )\n",
    "plt.imshow(wordcloud, interpolation='bilinear')\n",
    "plt.axis(\"off\")\n",
    "plt.show()"
   ]
  },
  {
   "cell_type": "markdown",
   "metadata": {},
   "source": [
    "# <font color='#31708f'><center>Analyzing Zendesk Tickets with TF-IDF</center></font>"
   ]
  },
  {
   "cell_type": "code",
   "execution_count": null,
   "metadata": {},
   "outputs": [],
   "source": [
    "import glob"
   ]
  },
  {
   "cell_type": "code",
   "execution_count": null,
   "metadata": {},
   "outputs": [],
   "source": [
    "file_list = glob.glob('C:/Users/smsta/Desktop/GIT_REPOSITORIES/zendesk_tag_cloud/newman/*.json') \n",
    "for filename in file_list:\n",
    "    print(filename)"
   ]
  },
  {
   "cell_type": "code",
   "execution_count": null,
   "metadata": {},
   "outputs": [],
   "source": [
    "import ijson\n",
    "\n",
    "\n",
    "def parse_json(json_filename):\n",
    "    with open(filename, 'r', encoding=\"utf8\") as file:\n",
    "        # load json iteratively\n",
    "        parser = ijson.parse(file)\n",
    "        for prefix, event, value in parser:\n",
    "            print('prefix={}, event={}, value={}'.format(prefix, event, value))\n",
    "\n",
    "\n",
    "if __name__ == '__main__':\n",
    "    parse_json(filename)"
   ]
  },
  {
   "cell_type": "code",
   "execution_count": null,
   "metadata": {},
   "outputs": [],
   "source": [
    "import ijson\n",
    "import re\n",
    "from string import punctuation\n",
    "\n",
    "\n",
    "def extract_ticket_text_generator(json_filename):\n",
    "    \"\"\"This function takes a list of files with tickets and extracts text from each ticket. The result is a list of text strings.\"\"\"\n",
    "    for filename in file_list:\n",
    "        with open(filename, 'r', encoding=\"utf8\") as input_file:\n",
    "            # Extract specific items from the file\n",
    "            tickets = ijson.items(input_file, 'run.executions.item.assertions.item.assertion')\n",
    "            for ticket in tickets:\n",
    "                # Extract the substring between two markers\n",
    "                l = re.findall('plain_body(.+?)public', ticket)\n",
    "                # Remove all of the punctuation in any item in the list. The result is for each ticket a list of comments.\n",
    "                m = [''.join(c for c in s if c not in punctuation) for s in l]\n",
    "                # Join list elements without any separator. The result is for each ticket a list of merged comments.\n",
    "                n = [' '.join(m)] \n",
    "                yield(n)\n",
    "                \n",
    "                \n",
    "                \n",
    "if __name__ == '__main__':\n",
    "    extract_ticket_text_generator(filename)"
   ]
  },
  {
   "cell_type": "code",
   "execution_count": null,
   "metadata": {},
   "outputs": [],
   "source": [
    "def create_txt_files():\n",
    "    \"\"\"This function takes a list of text strings and saves each ticket in a .txt file.\"\"\"\n",
    "    data = extract_ticket_text_generator(filename)\n",
    "    # Make a a flat list out of list of lists.\n",
    "    flat_list = [item for sublist in data for item in sublist]\n",
    "    for i in range(len(flat_list)):\n",
    "        with open(\"ticket_%d.txt\" % (i+1), 'w', encoding=\"utf-8\") as f:\n",
    "            f.write(flat_list[i])"
   ]
  },
  {
   "cell_type": "code",
   "execution_count": null,
   "metadata": {},
   "outputs": [],
   "source": [
    "create_txt_files()"
   ]
  }
 ],
 "metadata": {
  "kernelspec": {
   "display_name": "testenv",
   "language": "python",
   "name": "testenv"
  },
  "language_info": {
   "codemirror_mode": {
    "name": "ipython",
    "version": 3
   },
   "file_extension": ".py",
   "mimetype": "text/x-python",
   "name": "python",
   "nbconvert_exporter": "python",
   "pygments_lexer": "ipython3",
   "version": "3.8.5"
  }
 },
 "nbformat": 4,
 "nbformat_minor": 4
}
