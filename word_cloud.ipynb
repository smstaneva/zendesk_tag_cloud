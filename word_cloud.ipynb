{
 "cells": [
  {
   "cell_type": "markdown",
   "metadata": {},
   "source": [
    "# <font color='#31708f'><center>Zendesk Tickets Word Cloud </center></font>"
   ]
  },
  {
   "cell_type": "markdown",
   "metadata": {},
   "source": [
    "Set up the development environment: \n",
    "- Install Postman native app\n",
    "- Install Newman:"
   ]
  },
  {
   "cell_type": "code",
   "execution_count": 6,
   "metadata": {},
   "outputs": [
    {
     "name": "stdout",
     "output_type": "stream",
     "text": [
      "C:\\Users\\The User\n",
      "+-- global@4.4.0 \n",
      "| +-- min-document@2.19.0 \n",
      "| | `-- dom-walk@0.1.1 \n",
      "| `-- process@0.11.10 \n",
      "`-- newman@4.5.7 \n",
      "  +-- @postman/csv-parse@4.0.2 \n",
      "  +-- async@3.1.0 \n",
      "  +-- chardet@0.8.0 \n",
      "  +-- cli-progress@3.4.0 \n",
      "  | `-- string-width@2.1.1 \n",
      "  |   +-- is-fullwidth-code-point@2.0.0 \n",
      "  |   `-- strip-ansi@4.0.0 \n",
      "  |     `-- ansi-regex@3.0.0 \n",
      "  +-- cli-table3@0.5.1 \n",
      "  | `-- object-assign@4.1.1 \n",
      "  +-- colors@1.4.0 \n",
      "  +-- commander@4.0.1 \n",
      "  +-- eventemitter3@4.0.0 \n",
      "  +-- filesize@6.0.1 \n",
      "  +-- lodash@4.17.15 \n",
      "  +-- mkdirp@0.5.1 \n",
      "  | `-- minimist@0.0.8 \n",
      "  +-- postman-collection@3.5.5 \n",
      "  | +-- escape-html@1.0.3 \n",
      "  | +-- faker@4.1.0 \n",
      "  | +-- file-type@3.9.0 \n",
      "  | +-- http-reasons@0.1.0 \n",
      "  | +-- iconv-lite@0.5.0 \n",
      "  | | `-- safer-buffer@2.1.2 \n",
      "  | +-- liquid-json@0.3.1 \n",
      "  | +-- marked@0.7.0 \n",
      "  | +-- mime-format@2.0.0 \n",
      "  | | `-- charset@1.0.1 \n",
      "  | +-- mime-types@2.1.25 \n",
      "  | | `-- mime-db@1.42.0 \n",
      "  | +-- postman-url-encoder@1.0.3 \n",
      "  | +-- sanitize-html@1.20.1 \n",
      "  | | +-- chalk@2.4.2 \n",
      "  | | | +-- ansi-styles@3.2.1 \n",
      "  | | | | `-- color-convert@1.9.3 \n",
      "  | | | |   `-- color-name@1.1.3 \n",
      "  | | | +-- escape-string-regexp@1.0.5 \n",
      "  | | | `-- supports-color@5.5.0 \n",
      "  | | |   `-- has-flag@3.0.0 \n",
      "  | | +-- htmlparser2@3.10.1 \n",
      "  | | | +-- domelementtype@1.3.1 \n",
      "  | | | +-- domhandler@2.4.2 \n",
      "  | | | +-- domutils@1.7.0 \n",
      "  | | | | `-- dom-serializer@0.2.2 \n",
      "  | | | |   +-- domelementtype@2.0.1 \n",
      "  | | | |   `-- entities@2.0.0 \n",
      "  | | | +-- entities@1.1.2 \n",
      "  | | | `-- readable-stream@3.5.0 \n",
      "  | | |   +-- string_decoder@1.3.0 \n",
      "  | | |   `-- util-deprecate@1.0.2 \n",
      "  | | +-- lodash.clonedeep@4.5.0 \n",
      "  | | +-- lodash.escaperegexp@4.1.2 \n",
      "  | | +-- lodash.isplainobject@4.0.6 \n",
      "  | | +-- lodash.isstring@4.0.1 \n",
      "  | | +-- lodash.mergewith@4.6.2 \n",
      "  | | +-- postcss@7.0.26 \n",
      "  | | | `-- supports-color@6.1.0 \n",
      "  | | +-- srcset@1.0.0 \n",
      "  | | | +-- array-uniq@1.0.3 \n",
      "  | | | `-- number-is-nan@1.0.1 \n",
      "  | | `-- xtend@4.0.2 \n",
      "  | `-- uuid@3.3.3 \n",
      "  +-- postman-collection-transformer@3.2.0 \n",
      "  | +-- commander@3.0.1 \n",
      "  | +-- inherits@2.0.4 \n",
      "  | +-- intel@1.2.0 \n",
      "  | | +-- chalk@1.1.3 \n",
      "  | | | +-- ansi-styles@2.2.1 \n",
      "  | | | +-- has-ansi@2.0.0 \n",
      "  | | | | `-- ansi-regex@2.1.1 \n",
      "  | | | +-- strip-ansi@3.0.1 \n",
      "  | | | | `-- ansi-regex@2.1.1 \n",
      "  | | | `-- supports-color@2.0.0 \n",
      "  | | +-- dbug@0.4.2 \n",
      "  | | +-- stack-trace@0.0.10 \n",
      "  | | +-- strftime@0.10.0 \n",
      "  | | +-- symbol@0.3.1 \n",
      "  | | `-- utcstring@0.1.0 \n",
      "  | `-- strip-json-comments@3.0.1 \n",
      "  +-- postman-request@2.88.1-postman.16 \n",
      "  | +-- @postman/tunnel-agent@0.6.3 \n",
      "  | +-- aws-sign2@0.7.0 \n",
      "  | +-- aws4@1.9.1 \n",
      "  | +-- caseless@0.12.0 \n",
      "  | +-- combined-stream@1.0.8 \n",
      "  | | `-- delayed-stream@1.0.0 \n",
      "  | +-- extend@3.0.2 \n",
      "  | +-- forever-agent@0.6.1 \n",
      "  | +-- form-data@2.3.3 \n",
      "  | | `-- asynckit@0.4.0 \n",
      "  | +-- har-validator@5.1.3 \n",
      "  | | +-- ajv@6.11.0 \n",
      "  | | | +-- fast-deep-equal@3.1.1 \n",
      "  | | | +-- fast-json-stable-stringify@2.1.0 \n",
      "  | | | +-- json-schema-traverse@0.4.1 \n",
      "  | | | `-- uri-js@4.2.2 \n",
      "  | | `-- har-schema@2.0.0 \n",
      "  | +-- http-signature@1.2.0 \n",
      "  | | +-- assert-plus@1.0.0 \n",
      "  | | +-- jsprim@1.4.1 \n",
      "  | | | +-- extsprintf@1.3.0 \n",
      "  | | | +-- json-schema@0.2.3 \n",
      "  | | | `-- verror@1.10.0 \n",
      "  | | |   `-- core-util-is@1.0.2 \n",
      "  | | `-- sshpk@1.16.1 \n",
      "  | |   +-- asn1@0.2.4 \n",
      "  | |   +-- bcrypt-pbkdf@1.0.2 \n",
      "  | |   +-- dashdash@1.14.1 \n",
      "  | |   +-- ecc-jsbn@0.1.2 \n",
      "  | |   +-- getpass@0.1.7 \n",
      "  | |   +-- jsbn@0.1.1 \n",
      "  | |   `-- tweetnacl@0.14.5 \n",
      "  | +-- is-typedarray@1.0.0 \n",
      "  | +-- isstream@0.1.2 \n",
      "  | +-- json-stringify-safe@5.0.1 \n",
      "  | +-- oauth-sign@0.9.0 \n",
      "  | +-- performance-now@2.1.0 \n",
      "  | +-- postman-url-encoder@1.0.1 \n",
      "  | +-- qs@6.5.2 \n",
      "  | +-- safe-buffer@5.2.0 \n",
      "  | +-- stream-length@1.0.2 \n",
      "  | | `-- bluebird@2.11.0 \n",
      "  | `-- tough-cookie@2.5.0 \n",
      "  |   +-- psl@1.7.0 \n",
      "  |   `-- punycode@2.1.1 \n",
      "  +-- postman-runtime@7.21.0 \n",
      "  | +-- async@2.6.2 \n",
      "  | +-- aws4@1.9.0 \n",
      "  | +-- crypto-js@3.1.9-1 \n",
      "  | +-- handlebars@4.5.3 \n",
      "  | | +-- neo-async@2.6.1 \n",
      "  | | +-- optimist@0.6.1 \n",
      "  | | | `-- wordwrap@0.0.3 \n",
      "  | | +-- source-map@0.6.1 \n",
      "  | | `-- uglify-js@3.7.6 \n",
      "  | |   `-- commander@2.20.3 \n",
      "  | +-- httpntlm@1.7.6 \n",
      "  | | +-- httpreq@0.4.24 \n",
      "  | | `-- underscore@1.7.0 \n",
      "  | +-- node-oauth1@1.2.2 \n",
      "  | +-- postman-sandbox@3.5.2 \n",
      "  | | +-- teleport-javascript@1.0.0 \n",
      "  | | +-- tough-cookie@3.0.1 \n",
      "  | | `-- uvm@1.7.8 \n",
      "  | |   +-- flatted@2.0.1 \n",
      "  | |   `-- uuid@3.3.2 \n",
      "  | +-- resolve-from@5.0.0 \n",
      "  | `-- tough-cookie@3.0.1 \n",
      "  |   `-- ip-regex@2.1.0 \n",
      "  +-- pretty-ms@5.1.0 \n",
      "  | `-- parse-ms@2.1.0 \n",
      "  +-- semver@6.3.0 \n",
      "  +-- serialised-error@1.1.3 \n",
      "  | +-- object-hash@1.3.1 \n",
      "  | `-- stack-trace@0.0.9 \n",
      "  +-- word-wrap@1.2.3 \n",
      "  `-- xmlbuilder@13.0.2 \n",
      "\n"
     ]
    },
    {
     "name": "stderr",
     "output_type": "stream",
     "text": [
      "npm WARN enoent ENOENT: no such file or directory, open 'C:\\Users\\The User\\package.json'\n",
      "npm WARN The User No description\n",
      "npm WARN The User No repository field.\n",
      "npm WARN The User No README data\n",
      "npm WARN The User No license field.\n"
     ]
    }
   ],
   "source": [
    "! npm install newman global"
   ]
  },
  {
   "cell_type": "markdown",
   "metadata": {},
   "source": [
    "<div class=\"alert alert-block alert-info\">IN BASE64<div>"
   ]
  },
  {
   "cell_type": "markdown",
   "metadata": {},
   "source": [
    "AUTHORIZATION - Basic Authetication and API tokens<br> \n",
    "Use your company email address and Zendesk API key. The credentials must be sent in an Authorization header in the HTTP request. "
   ]
  },
  {
   "cell_type": "markdown",
   "metadata": {},
   "source": [
    "Authenticate a request with basic authentication and API token: \n",
    "- Combine your email address/token with your Zendesk API key with a colon:\n",
    "```svetlana.staneva@eventsforce.com/token: {zendesk_api_key}```\n",
    "- Base64-encode the resulting string:\n",
    "```amRvZUBleGFtcGxlLmNvbTpwYSQkdzByZA==```"
   ]
  },
  {
   "cell_type": "markdown",
   "metadata": {},
   "source": [
    "<div class=\"alert alert-block alert-info\">IN TEXTMECHANIC<div>"
   ]
  },
  {
   "cell_type": "markdown",
   "metadata": {},
   "source": [
    "- Generate a list of numbers from 1 to 51804\n",
    "- Create a runner.csv file with a column ticket_id and listing numbers from 1 to 51804"
   ]
  },
  {
   "cell_type": "markdown",
   "metadata": {},
   "source": [
    "<div class=\"alert alert-block alert-info\">IN POSTMAN \n",
    "<div>"
   ]
  },
  {
   "cell_type": "markdown",
   "metadata": {},
   "source": [
    "Postman Comments Collection<br>\n",
    "The Comments is a Postman collection that lists comments for Zendesk tickets from number 1 to 51804."
   ]
  },
  {
   "cell_type": "markdown",
   "metadata": {},
   "source": [
    "Create a new environment: \n",
    "- Click on the Cog icon \n",
    "- Click Add \n",
    "- In Add Environment enter a name for the environment - for instance, Test \n",
    "- Click Add"
   ]
  },
  {
   "cell_type": "markdown",
   "metadata": {},
   "source": [
    "Select an active environment:\n",
    "- Click the dropdown menu in the upper right corner of the Postman app to select an active environment (Test)"
   ]
  },
  {
   "cell_type": "markdown",
   "metadata": {},
   "source": [
    "Request data via GET request:```https://eventsforce.zendesk.com/api/v2/tickets/{ticket_id}/comments.json```"
   ]
  },
  {
   "cell_type": "markdown",
   "metadata": {},
   "source": [
    "In Headers include the base64-encoded string: \n",
    "- In Headers go to Presets > Manage Presets\n",
    "- Add the Authorization and click Add:\n",
    "```Authorization: Basic {base64-encoded-string}```"
   ]
  },
  {
   "cell_type": "markdown",
   "metadata": {},
   "source": [
    "In Tests add the following line of code:"
   ]
  },
  {
   "cell_type": "markdown",
   "metadata": {},
   "source": [
    "test[\"[INFO] Request: \" + JSON.stringify(request)] = true;\n",
    "test[\"[INFO] Response \" + responseBody] = true;"
   ]
  },
  {
   "cell_type": "markdown",
   "metadata": {},
   "source": [
    "Create Comments Collection\n",
    "- Click on Collections > Create New Collection\n",
    "- Enter a name - for instance, Comments and click Create"
   ]
  },
  {
   "cell_type": "markdown",
   "metadata": {},
   "source": [
    "Save the Request in the Collection: \n",
    "- Click on Save As\n",
    "- Select the Collection and click Save"
   ]
  },
  {
   "cell_type": "markdown",
   "metadata": {},
   "source": [
    "Run the collection locally with the Postman Collection Runner"
   ]
  },
  {
   "cell_type": "code",
   "execution_count": 20,
   "metadata": {},
   "outputs": [],
   "source": [
    "#ADD A SENTENCE ON RUNNING THE COLLECTION WITH THE TEXTMECHANIC FILE"
   ]
  },
  {
   "cell_type": "markdown",
   "metadata": {},
   "source": [
    "Export the Comments collection: \n",
    "- Click on Collections \n",
    "- Hover over the Comments collection and click on the dots '...' that appear\n",
    "- Click Export and again Export\n",
    "- Save the file on the Desktop\n",
    "- The exported file is COMMENTS.postman_collection.json"
   ]
  },
  {
   "cell_type": "markdown",
   "metadata": {},
   "source": [
    "Run the Comments collection with the additional runner.csv file of key values"
   ]
  },
  {
   "cell_type": "code",
   "execution_count": 25,
   "metadata": {},
   "outputs": [
    {
     "name": "stderr",
     "output_type": "stream",
     "text": [
      "error: ENOENT: no such file or directory, open 'C:\\Users\\The User\\COMMENTS.postman_collection.json-d'\n",
      "\n"
     ]
    }
   ],
   "source": [
    "! newman run COMMENTS.postman_collection.json-d runner.csv-r html,cli,json,junit"
   ]
  },
  {
   "cell_type": "code",
   "execution_count": null,
   "metadata": {},
   "outputs": [],
   "source": []
  },
  {
   "cell_type": "code",
   "execution_count": null,
   "metadata": {},
   "outputs": [],
   "source": []
  },
  {
   "cell_type": "code",
   "execution_count": null,
   "metadata": {},
   "outputs": [],
   "source": []
  },
  {
   "cell_type": "code",
   "execution_count": null,
   "metadata": {},
   "outputs": [],
   "source": []
  },
  {
   "cell_type": "code",
   "execution_count": null,
   "metadata": {},
   "outputs": [],
   "source": []
  },
  {
   "cell_type": "code",
   "execution_count": null,
   "metadata": {},
   "outputs": [],
   "source": []
  },
  {
   "cell_type": "code",
   "execution_count": 21,
   "metadata": {},
   "outputs": [
    {
     "name": "stdout",
     "output_type": "stream",
     "text": [
      "[WinError 2] The system cannot find the file specified: 'Desktop/newman'\n",
      "C:\\Users\\The User\n"
     ]
    }
   ],
   "source": [
    "cd Desktop/newman"
   ]
  },
  {
   "cell_type": "markdown",
   "metadata": {},
   "source": [
    "    DICTIONARY"
   ]
  },
  {
   "cell_type": "code",
   "execution_count": 2,
   "metadata": {},
   "outputs": [],
   "source": [
    "#Parse JSON - convert from JSON to Python, result is dictionary\n",
    "#is close needed?"
   ]
  },
  {
   "cell_type": "code",
   "execution_count": 3,
   "metadata": {},
   "outputs": [
    {
     "ename": "FileNotFoundError",
     "evalue": "[Errno 2] No such file or directory: 'file.json'",
     "output_type": "error",
     "traceback": [
      "\u001b[1;31m---------------------------------------------------------------------------\u001b[0m",
      "\u001b[1;31mFileNotFoundError\u001b[0m                         Traceback (most recent call last)",
      "\u001b[1;32m<ipython-input-3-60b99bee3773>\u001b[0m in \u001b[0;36m<module>\u001b[1;34m()\u001b[0m\n\u001b[0;32m      1\u001b[0m \u001b[1;32mimport\u001b[0m \u001b[0mjson\u001b[0m\u001b[1;33m\u001b[0m\u001b[0m\n\u001b[1;32m----> 2\u001b[1;33m \u001b[0mf\u001b[0m \u001b[1;33m=\u001b[0m \u001b[0mopen\u001b[0m\u001b[1;33m(\u001b[0m\u001b[1;34m'file.json'\u001b[0m\u001b[1;33m)\u001b[0m\u001b[1;33m\u001b[0m\u001b[0m\n\u001b[0m\u001b[0;32m      3\u001b[0m \u001b[0mdata\u001b[0m \u001b[1;33m=\u001b[0m \u001b[0mjson\u001b[0m\u001b[1;33m.\u001b[0m\u001b[0mload\u001b[0m\u001b[1;33m(\u001b[0m\u001b[0mf\u001b[0m\u001b[1;33m)\u001b[0m\u001b[1;33m\u001b[0m\u001b[0m\n\u001b[0;32m      4\u001b[0m \u001b[0mf\u001b[0m\u001b[1;33m.\u001b[0m\u001b[0mclose\u001b[0m\u001b[1;33m(\u001b[0m\u001b[1;33m)\u001b[0m\u001b[1;33m\u001b[0m\u001b[0m\n",
      "\u001b[1;31mFileNotFoundError\u001b[0m: [Errno 2] No such file or directory: 'file.json'"
     ]
    }
   ],
   "source": [
    "import json\n",
    "f = open('file.json')\n",
    "data = json.load(f)\n",
    "f.close()"
   ]
  },
  {
   "cell_type": "code",
   "execution_count": null,
   "metadata": {},
   "outputs": [],
   "source": [
    "print(type(data))"
   ]
  },
  {
   "cell_type": "code",
   "execution_count": null,
   "metadata": {},
   "outputs": [],
   "source": [
    "print(data)"
   ]
  },
  {
   "cell_type": "markdown",
   "metadata": {},
   "source": [
    "    SHOW DICTIONARY KEYS"
   ]
  },
  {
   "cell_type": "code",
   "execution_count": null,
   "metadata": {},
   "outputs": [],
   "source": [
    "#Show all dictionary keys of dictionary 'data'; displays them as a list"
   ]
  },
  {
   "cell_type": "code",
   "execution_count": null,
   "metadata": {},
   "outputs": [],
   "source": [
    "data.keys()"
   ]
  },
  {
   "cell_type": "code",
   "execution_count": null,
   "metadata": {},
   "outputs": [],
   "source": [
    "#Another way to display keys in dictionary 'data'"
   ]
  },
  {
   "cell_type": "code",
   "execution_count": null,
   "metadata": {},
   "outputs": [],
   "source": [
    "for k in data: \n",
    "    print(k)"
   ]
  },
  {
   "cell_type": "markdown",
   "metadata": {},
   "source": [
    "FOR A SPECIFIC DICTIONARY KEY, SHOW ALL VALUES"
   ]
  },
  {
   "cell_type": "code",
   "execution_count": null,
   "metadata": {},
   "outputs": [],
   "source": [
    "for (k, v) in data.items():\n",
    "    if k == \"run\":\n",
    "        print(v)"
   ]
  },
  {
   "cell_type": "code",
   "execution_count": null,
   "metadata": {},
   "outputs": [],
   "source": [
    "print(type(v))"
   ]
  },
  {
   "cell_type": "markdown",
   "metadata": {},
   "source": [
    "**FOR A SPECIFIC DICTIONARY KEY, SHOW SPECIFIC VALUE**"
   ]
  },
  {
   "cell_type": "code",
   "execution_count": null,
   "metadata": {},
   "outputs": [],
   "source": [
    "for (k, v) in data.items():\n",
    "    if k == \"run\":\n",
    "        value_executions = v['executions']\n",
    "        print(value_executions)"
   ]
  },
  {
   "cell_type": "code",
   "execution_count": null,
   "metadata": {},
   "outputs": [],
   "source": [
    "print(type(value_executions))"
   ]
  },
  {
   "cell_type": "markdown",
   "metadata": {},
   "source": [
    "SHOW ALL LIST INDICES?"
   ]
  },
  {
   "cell_type": "code",
   "execution_count": null,
   "metadata": {},
   "outputs": [],
   "source": [
    "for indice in value_executions:\n",
    "    print(*indice)"
   ]
  },
  {
   "cell_type": "markdown",
   "metadata": {},
   "source": [
    "**SHOW ALL ELEMENTS IN A LIST, ARE THEY CALLED ELEMENTS? THIS IS WHERE IT PRINTS OUT 6 TICKETS.**"
   ]
  },
  {
   "cell_type": "code",
   "execution_count": null,
   "metadata": {},
   "outputs": [],
   "source": [
    "for element in value_executions:\n",
    "    print(element)"
   ]
  },
  {
   "cell_type": "code",
   "execution_count": null,
   "metadata": {},
   "outputs": [],
   "source": [
    "print(type(element))"
   ]
  },
  {
   "cell_type": "markdown",
   "metadata": {},
   "source": [
    "**PRINTS ONLY THE LAST TICKET**"
   ]
  },
  {
   "cell_type": "code",
   "execution_count": null,
   "metadata": {},
   "outputs": [],
   "source": [
    "for (k1, v1) in element.items():\n",
    "    if k1 == \"assertions\":\n",
    "        print(v1)"
   ]
  },
  {
   "cell_type": "code",
   "execution_count": null,
   "metadata": {},
   "outputs": [],
   "source": [
    "print(type(v1))"
   ]
  },
  {
   "cell_type": "markdown",
   "metadata": {},
   "source": [
    "**PRINTS ONLY THE LAST TICKET**"
   ]
  },
  {
   "cell_type": "code",
   "execution_count": null,
   "metadata": {},
   "outputs": [],
   "source": [
    "for elem in v1:\n",
    "    print(elem)"
   ]
  },
  {
   "cell_type": "code",
   "execution_count": null,
   "metadata": {},
   "outputs": [],
   "source": [
    "print(type(elem))"
   ]
  },
  {
   "cell_type": "markdown",
   "metadata": {},
   "source": [
    "**PRINTS LAST TICKET ONLY**"
   ]
  },
  {
   "cell_type": "code",
   "execution_count": null,
   "metadata": {},
   "outputs": [],
   "source": [
    "for (k2, v2) in elem.items():\n",
    "    if k2 == 'assertion':\n",
    "        print(v2)"
   ]
  },
  {
   "cell_type": "code",
   "execution_count": null,
   "metadata": {},
   "outputs": [],
   "source": [
    "print(type(v2))"
   ]
  },
  {
   "cell_type": "markdown",
   "metadata": {},
   "source": [
    "   PRINTS LAST TICKET ONLY - CONVERTS IT TO DICTIONARY"
   ]
  },
  {
   "cell_type": "code",
   "execution_count": null,
   "metadata": {},
   "outputs": [],
   "source": [
    "res2 = json.loads(v2)\n",
    "print(res2)"
   ]
  },
  {
   "cell_type": "code",
   "execution_count": null,
   "metadata": {},
   "outputs": [],
   "source": [
    "print(type(res2))"
   ]
  },
  {
   "cell_type": "markdown",
   "metadata": {},
   "source": [
    "PRINTS ONLY LAST TICKET"
   ]
  },
  {
   "cell_type": "code",
   "execution_count": null,
   "metadata": {},
   "outputs": [],
   "source": [
    "for (k3, v3) in res2.items():\n",
    "    if k3 == \"comments\":\n",
    "        print(v3)"
   ]
  },
  {
   "cell_type": "code",
   "execution_count": null,
   "metadata": {},
   "outputs": [],
   "source": []
  },
  {
   "cell_type": "code",
   "execution_count": null,
   "metadata": {},
   "outputs": [],
   "source": []
  },
  {
   "cell_type": "code",
   "execution_count": null,
   "metadata": {},
   "outputs": [],
   "source": []
  },
  {
   "cell_type": "code",
   "execution_count": null,
   "metadata": {},
   "outputs": [],
   "source": []
  },
  {
   "cell_type": "code",
   "execution_count": null,
   "metadata": {},
   "outputs": [],
   "source": []
  },
  {
   "cell_type": "code",
   "execution_count": null,
   "metadata": {},
   "outputs": [],
   "source": []
  },
  {
   "cell_type": "code",
   "execution_count": null,
   "metadata": {},
   "outputs": [],
   "source": [
    "#Combine all into one concise chunk of code; added global var"
   ]
  },
  {
   "cell_type": "code",
   "execution_count": null,
   "metadata": {},
   "outputs": [],
   "source": [
    "for (k, v) in data.items():\n",
    "    if k == \"run\":\n",
    "        value_executions = v['executions']\n",
    "for element in value_executions: \n",
    "    for (k1, v1) in element.items():\n",
    "        if k1 == \"assertions\":\n",
    "            for elem in v1: \n",
    "                for (k2, v2) in elem.items():\n",
    "                    if k2 == 'assertion':\n",
    "                       res2 = json.loads(v2)\n",
    "                       for (k3, v3) in res2.items():\n",
    "                            if k3 == 'comments':\n",
    "                                for elem1 in v3:\n",
    "                                    for (k4, v4) in elem1.items():\n",
    "                                        if k4 == 'body':\n",
    "                                            value = str(v4)\n",
    "                                            print(value)"
   ]
  },
  {
   "cell_type": "code",
   "execution_count": null,
   "metadata": {},
   "outputs": [],
   "source": [
    "import matplotlib.pyplot as plt\n",
    "from wordcloud import WordCloud, STOPWORDS"
   ]
  },
  {
   "cell_type": "code",
   "execution_count": null,
   "metadata": {},
   "outputs": [],
   "source": [
    "stopwords = set(STOPWORDS)\n",
    "stopwords.update([\"Jeremy\", \"Ward\", \"pivotal\", \"tracker\", \"story\"])\n",
    "\n",
    "wordcloud = WordCloud(stopwords=stopwords, \n",
    "                      background_color=\"white\",\n",
    "                      width = 2000,\n",
    "                      height = 1000,\n",
    "                      max_words=200,  \n",
    "                     ).generate(global_var)\n",
    "\n",
    "plt.imshow(wordcloud, interpolation='bilinear')\n",
    "plt.axis(\"off\")\n",
    "plt.show()"
   ]
  },
  {
   "cell_type": "code",
   "execution_count": null,
   "metadata": {},
   "outputs": [],
   "source": [
    "?wordcloud"
   ]
  }
 ],
 "metadata": {
  "kernelspec": {
   "display_name": "Python 3",
   "language": "python",
   "name": "python3"
  },
  "language_info": {
   "codemirror_mode": {
    "name": "ipython",
    "version": 3
   },
   "file_extension": ".py",
   "mimetype": "text/x-python",
   "name": "python",
   "nbconvert_exporter": "python",
   "pygments_lexer": "ipython3",
   "version": "3.6.4"
  }
 },
 "nbformat": 4,
 "nbformat_minor": 2
}
